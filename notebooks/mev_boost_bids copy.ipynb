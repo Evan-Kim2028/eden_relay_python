{
 "cells": [
  {
   "cell_type": "code",
   "execution_count": 7,
   "metadata": {},
   "outputs": [
    {
     "data": {
      "text/plain": [
       "polars.config.Config"
      ]
     },
     "execution_count": 7,
     "metadata": {},
     "output_type": "execute_result"
    }
   ],
   "source": [
    "import polars as pl\n",
    "\n",
    "from google.cloud import bigquery\n",
    "from google.oauth2 import service_account\n",
    "\n",
    "pl.Config.set_fmt_str_lengths(200)\n",
    "pl.Config.set_fmt_float(\"full\")"
   ]
  },
  {
   "cell_type": "markdown",
   "metadata": {},
   "source": [
    "# ChatGPT Instructions\n",
    "\n",
    "To authenticate with Google Cloud services like BigQuery in Python without using a browser-based authentication flow, you can use service account credentials. A service account is a special kind of account used by applications (rather than users) to interact with Google Cloud services. Here’s how you can set it up:\n",
    "\n",
    "1. Create a Service Account and Download the JSON Key File\n",
    "Go to the Google Cloud Console (console.cloud.google.com).\n",
    "Select your project.\n",
    "Navigate to IAM & Admin > Service Accounts.\n",
    "Click Create Service Account, give it a name, describe its role, and grant it the necessary roles (like BigQuery Admin for full access to BigQuery).\n",
    "After creating the service account, click on it to manage keys.\n",
    "Add a new key and select JSON type. This will download the JSON key file to your computer.\n",
    "2. Authenticate in Python Using the Service Account\n",
    "With the JSON key file, you can authenticate your application in Python as follows:\n",
    "\n",
    "python\n",
    "Copy code\n",
    "from google.cloud import bigquery\n",
    "from google.oauth2 import service_account\n",
    "\n",
    "# Path to your service account key file\n",
    "service_account_key_path = 'path/to/your/service-account-file.json'\n",
    "\n",
    "# Create credentials using the service account key file\n",
    "credentials = service_account.Credentials.from_service_account_file(\n",
    "    service_account_key_path\n",
    ")\n",
    "\n",
    "# Use the credentials to create a client for your project\n",
    "client = bigquery.Client(credentials=credentials, project=credentials.project_id)\n",
    "\n",
    "# Now you can use this client to perform operations with BigQuery\n",
    "3. Environment Variable (Alternative Method)\n",
    "Alternatively, you can set an environment variable that the Google client libraries use to automatically locate the credentials file. This is often more convenient as it reduces the need to modify your code to handle authentication.\n",
    "\n",
    "In your system’s shell (e.g., Bash), you can set the environment variable like this:\n",
    "\n",
    "bash\n",
    "Copy code\n",
    "export GOOGLE_APPLICATION_CREDENTIALS=\"/path/to/your/service-account-file.json\"\n",
    "In Python, you can set this environment variable within your script (though setting it in the system's shell is recommended for security and modularity):\n",
    "\n",
    "python\n",
    "Copy code\n",
    "import os\n",
    "os.environ[\"GOOGLE_APPLICATION_CREDENTIALS\"] = \"/path/to/your/service-account-file.json\""
   ]
  },
  {
   "cell_type": "markdown",
   "metadata": {},
   "source": [
    "# BigQuery "
   ]
  },
  {
   "cell_type": "code",
   "execution_count": 2,
   "metadata": {},
   "outputs": [],
   "source": [
    "# Create credentials using the service account key file\n",
    "credentials = service_account.Credentials.from_service_account_file(\n",
    "    \"../eden-relay-8817ef6d9a58.json\"\n",
    ")\n",
    "\n",
    "# Use the credentials to create a client for your project\n",
    "client = bigquery.Client(credentials=credentials,\n",
    "                         project=credentials.project_id)"
   ]
  },
  {
   "cell_type": "code",
   "execution_count": null,
   "metadata": {},
   "outputs": [],
   "source": [
    "# TODO - add xatu data query for beacon chain payload data..."
   ]
  },
  {
   "cell_type": "code",
   "execution_count": 19,
   "metadata": {},
   "outputs": [],
   "source": [
    "sql = \"\"\"\n",
    "    WITH RankedBids AS (\n",
    "        SELECT \n",
    "            relay,\n",
    "            slot,\n",
    "            block_hash,\n",
    "            timestamp,\n",
    "            block_timestamp,\n",
    "            value,\n",
    "            -- RANK() OVER(PARTITION BY slot, block_hash ORDER BY timestamp ASC) AS rank_asc,\n",
    "            RANK() OVER(PARTITION BY slot, block_hash ORDER BY timestamp DESC) AS rank_desc\n",
    "        FROM `eden-data-public.mev_boost.bids` \n",
    "        WHERE TIMESTAMP_TRUNC(timestamp, DAY) > TIMESTAMP(\"2024-04-15\")\n",
    "    ),\n",
    "    AggregatedBids AS (\n",
    "        SELECT\n",
    "            slot,\n",
    "            block_hash,\n",
    "            relay,\n",
    "            block_timestamp,\n",
    "            -- MIN(timestamp) AS earliest_bid_timestamp,\n",
    "            MAX(timestamp) AS latest_bid_timestamp,\n",
    "            -- MAX(CASE WHEN rank_asc = 1 THEN value END) / POW(10, 18) AS earliest_bid_value,\n",
    "            MAX(CASE WHEN rank_desc = 1 THEN value END) / POW(10, 18) AS latest_bid_value\n",
    "        FROM RankedBids\n",
    "        GROUP BY slot, block_hash, relay, block_timestamp\n",
    "    )\n",
    "    SELECT * FROM AggregatedBids\n",
    "    \"\"\""
   ]
  },
  {
   "cell_type": "code",
   "execution_count": 20,
   "metadata": {},
   "outputs": [],
   "source": [
    "query_df = client.query(sql).to_dataframe()"
   ]
  },
  {
   "cell_type": "code",
   "execution_count": 21,
   "metadata": {},
   "outputs": [],
   "source": [
    "pl_df = pl.DataFrame(query_df)"
   ]
  },
  {
   "cell_type": "code",
   "execution_count": 2,
   "metadata": {},
   "outputs": [],
   "source": [
    "pl_df = pl.scan_parquet(\"agg_bids_cache.parquet\")\n",
    "# pl_df.write_parquet(\"agg_bids_cache.parquet\")"
   ]
  },
  {
   "cell_type": "code",
   "execution_count": 3,
   "metadata": {},
   "outputs": [
    {
     "data": {
      "text/html": [
       "<div><style>\n",
       ".dataframe > thead > tr,\n",
       ".dataframe > tbody > tr {\n",
       "  text-align: right;\n",
       "  white-space: pre-wrap;\n",
       "}\n",
       "</style>\n",
       "<small>shape: (1, 1)</small><table border=\"1\" class=\"dataframe\"><thead><tr><th>len</th></tr><tr><td>u32</td></tr></thead><tbody><tr><td>55496166</td></tr></tbody></table></div>"
      ],
      "text/plain": [
       "shape: (1, 1)\n",
       "┌──────────┐\n",
       "│ len      │\n",
       "│ ---      │\n",
       "│ u32      │\n",
       "╞══════════╡\n",
       "│ 55496166 │\n",
       "└──────────┘"
      ]
     },
     "execution_count": 3,
     "metadata": {},
     "output_type": "execute_result"
    }
   ],
   "source": [
    "pl_df.select(pl.len()).collect()"
   ]
  },
  {
   "cell_type": "code",
   "execution_count": 40,
   "metadata": {},
   "outputs": [],
   "source": [
    "relays_latest_bids_rec_df = (\n",
    "    pl_df.sort(by=\"slot\")\n",
    "    .with_columns(\n",
    "        (pl.col(\"latest_bid_timestamp\") - pl.col(\"block_timestamp\")).alias(\n",
    "            \"bid_since_block_timestamp\"\n",
    "        ),\n",
    "    )\n",
    "    .group_by(\"slot\", \"relay\")\n",
    "    .agg(\n",
    "        pl.col(\"bid_since_block_timestamp\")\n",
    "        .max()\n",
    "        .alias(\"latest_relay_bid_since_block_timestamp\"),\n",
    "        pl.col(\"latest_bid_value\").max().alias(\"max_latest_relay_bid_value\"),\n",
    "    )\n",
    ").collect(streaming=True)"
   ]
  },
  {
   "cell_type": "code",
   "execution_count": 50,
   "metadata": {},
   "outputs": [
    {
     "data": {
      "text/html": [
       "<div><style>\n",
       ".dataframe > thead > tr,\n",
       ".dataframe > tbody > tr {\n",
       "  text-align: right;\n",
       "  white-space: pre-wrap;\n",
       "}\n",
       "</style>\n",
       "<small>shape: (7, 1)</small><table border=\"1\" class=\"dataframe\"><thead><tr><th>relay</th></tr><tr><td>str</td></tr></thead><tbody><tr><td>&quot;bloxrouteMaxProfit&quot;</td></tr><tr><td>&quot;agnostic&quot;</td></tr><tr><td>&quot;ultrasound&quot;</td></tr><tr><td>&quot;eden&quot;</td></tr><tr><td>&quot;flashbots&quot;</td></tr><tr><td>&quot;manifold&quot;</td></tr><tr><td>&quot;aestus&quot;</td></tr></tbody></table></div>"
      ],
      "text/plain": [
       "shape: (7, 1)\n",
       "┌────────────────────┐\n",
       "│ relay              │\n",
       "│ ---                │\n",
       "│ str                │\n",
       "╞════════════════════╡\n",
       "│ bloxrouteMaxProfit │\n",
       "│ agnostic           │\n",
       "│ ultrasound         │\n",
       "│ eden               │\n",
       "│ flashbots          │\n",
       "│ manifold           │\n",
       "│ aestus             │\n",
       "└────────────────────┘"
      ]
     },
     "execution_count": 50,
     "metadata": {},
     "output_type": "execute_result"
    }
   ],
   "source": [
    "relays_latest_bids_rec_df.select(\"relay\").unique()"
   ]
  },
  {
   "cell_type": "code",
   "execution_count": 80,
   "metadata": {},
   "outputs": [],
   "source": [
    "bloxroute_table = (\n",
    "    relays_latest_bids_rec_df\n",
    "    # .filter(pl.col(\"relay\") == \"bloxrouteMaxProfit\")\n",
    "    .with_columns(\n",
    "        pl.col(\"latest_relay_bid_since_block_timestamp\")\n",
    "        .cast(pl.Duration(time_unit=\"ms\"))\n",
    "        .alias(\"latest_relay_bid_since_block_timestamp\")\n",
    "    )\n",
    "    .with_columns(\n",
    "        (pl.col(\"latest_relay_bid_since_block_timestamp\") / 1000)\n",
    "        .cast(pl.Float64)\n",
    "        .alias(\"latest_bid_since_block_seconds\")\n",
    "    )\n",
    "    .sort(by=\"latest_relay_bid_since_block_timestamp\", descending=True)\n",
    "    .filter(pl.col(\"latest_bid_since_block_seconds\") < 7)\n",
    "    .filter(pl.col(\"latest_bid_since_block_seconds\") > 0)\n",
    ")"
   ]
  },
  {
   "cell_type": "code",
   "execution_count": 81,
   "metadata": {},
   "outputs": [
    {
     "data": {},
     "metadata": {},
     "output_type": "display_data"
    },
    {
     "data": {
      "application/vnd.holoviews_exec.v0+json": "",
      "text/html": [
       "<div id='p3258'>\n",
       "  <div id=\"c1d8c7b8-27a3-413d-ba8c-d0c753b926f8\" data-root-id=\"p3258\" style=\"display: contents;\"></div>\n",
       "</div>\n",
       "<script type=\"application/javascript\">(function(root) {\n",
       "  var docs_json = {\"f6098b36-ddff-42dc-ab48-1cd584fd95e3\":{\"version\":\"3.4.1\",\"title\":\"Bokeh Application\",\"roots\":[{\"type\":\"object\",\"name\":\"Row\",\"id\":\"p3258\",\"attributes\":{\"name\":\"Row06447\",\"tags\":[\"embedded\"],\"stylesheets\":[\"\\n:host(.pn-loading):before, .pn-loading:before {\\n  background-color: #c3c3c3;\\n  mask-size: auto calc(min(50%, 400px));\\n  -webkit-mask-size: auto calc(min(50%, 400px));\\n}\",{\"type\":\"object\",\"name\":\"ImportedStyleSheet\",\"id\":\"p3261\",\"attributes\":{\"url\":\"https://cdn.holoviz.org/panel/1.4.1/dist/css/loading.css\"}},{\"type\":\"object\",\"name\":\"ImportedStyleSheet\",\"id\":\"p3421\",\"attributes\":{\"url\":\"https://cdn.holoviz.org/panel/1.4.1/dist/css/listpanel.css\"}},{\"type\":\"object\",\"name\":\"ImportedStyleSheet\",\"id\":\"p3259\",\"attributes\":{\"url\":\"https://cdn.holoviz.org/panel/1.4.1/dist/bundled/theme/default.css\"}},{\"type\":\"object\",\"name\":\"ImportedStyleSheet\",\"id\":\"p3260\",\"attributes\":{\"url\":\"https://cdn.holoviz.org/panel/1.4.1/dist/bundled/theme/native.css\"}}],\"min_width\":700,\"margin\":0,\"sizing_mode\":\"stretch_width\",\"align\":\"start\",\"children\":[{\"type\":\"object\",\"name\":\"Spacer\",\"id\":\"p3262\",\"attributes\":{\"name\":\"HSpacer06454\",\"stylesheets\":[\"\\n:host(.pn-loading):before, .pn-loading:before {\\n  background-color: #c3c3c3;\\n  mask-size: auto calc(min(50%, 400px));\\n  -webkit-mask-size: auto calc(min(50%, 400px));\\n}\",{\"id\":\"p3261\"},{\"id\":\"p3259\"},{\"id\":\"p3260\"}],\"margin\":0,\"sizing_mode\":\"stretch_width\",\"align\":\"start\"}},{\"type\":\"object\",\"name\":\"Figure\",\"id\":\"p3288\",\"attributes\":{\"width\":700,\"height\":300,\"margin\":[5,10],\"sizing_mode\":\"fixed\",\"align\":\"start\",\"x_range\":{\"type\":\"object\",\"name\":\"Range1d\",\"id\":\"p3263\",\"attributes\":{\"tags\":[[[\"latest_bid_since_block_seconds\",\"latest_bid_since_block_seconds\",null]],[]],\"start\":-0.32186023822624044,\"end\":7.325095216800486,\"reset_start\":-0.32186023822624044,\"reset_end\":7.325095216800486}},\"y_range\":{\"type\":\"object\",\"name\":\"Range1d\",\"id\":\"p3264\",\"attributes\":{\"tags\":[[[\"latest_bid_since_block_seconds_density\",\"Density\",null]],{\"type\":\"map\",\"entries\":[[\"invert_yaxis\",false],[\"autorange\",false]]}],\"end\":0.909437569065467,\"reset_start\":0.0,\"reset_end\":0.909437569065467}},\"x_scale\":{\"type\":\"object\",\"name\":\"LinearScale\",\"id\":\"p3298\"},\"y_scale\":{\"type\":\"object\",\"name\":\"LinearScale\",\"id\":\"p3299\"},\"title\":{\"type\":\"object\",\"name\":\"Title\",\"id\":\"p3291\",\"attributes\":{\"text\":\"latest block bids by relay\",\"text_color\":\"black\",\"text_font_size\":\"12pt\"}},\"renderers\":[{\"type\":\"object\",\"name\":\"GlyphRenderer\",\"id\":\"p3328\",\"attributes\":{\"name\":\"bloxrouteMaxProfit\",\"data_source\":{\"type\":\"object\",\"name\":\"ColumnDataSource\",\"id\":\"p3319\",\"attributes\":{\"selected\":{\"type\":\"object\",\"name\":\"Selection\",\"id\":\"p3320\",\"attributes\":{\"indices\":[],\"line_indices\":[]}},\"selection_policy\":{\"type\":\"object\",\"name\":\"UnionRenderers\",\"id\":\"p3321\"},\"data\":{\"type\":\"map\",\"entries\":[[\"x\",{\"type\":\"ndarray\",\"array\":{\"type\":\"bytes\",\"data\":\"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\"},\"shape\":[200],\"dtype\":\"float64\",\"order\":\"little\"}],[\"y\",{\"type\":\"ndarray\",\"array\":{\"type\":\"bytes\",\"data\":\"AAAAAAAAAAAAAAAAAAAAAAAAAAAAAAAAAAAAAAAAAAAAAAAAAAAAAAAAAAAAAAAAAAAAAAAAAAAAAAAAAAAAAAAAAAAAAAAAAAAAAAAAAAAAAAAAAAAAAAAAAAAAAAAAAAAAAAAAAAAAAAAAAAAAAAAAAAAAAAAAAAAAAAAAAAAAAAAAAAAAAAAAAAAAAAAAAAAAAAAAAAAAAAAAAAAAAAAAAAAAAAAAAAAAAAAAAAAAAAAAAAAAAAAAAAAAAAAAAAAAAAAAAAAAAAAAAAAAAAAAAAAAAAAAAAAAAAAAAAAAAAAAAAAAAAAAAAAAAAAAAAAAAAAAAAAAAAAAAAAAAAAAAAAAAAAAAAAAAAAAAAAAAAAAAAAAAAAAAAAAAAAAAAAAAAAAAAAAAAAAAAAAAAAAAAAAAAAAAAAAAAAAAAAAAAAAAAAAAAAAAAAAAAAAAAAAAAAAAAAAAAAAAAAAAAAAAAAAAAAAAAAAAAAAAAAAAAAAAAAAAAAAAAAAAAAAAAAAAAAAAAAAAAAAAAAAAAAAAAAAAAAAAAAAAAAAAAAAAAAAAAAAAAAAAAAAAAAAAAAAAAAAAAAAAAAAAAAAAAAAAAAAAAAAAAAAAAAAAAAAAAAAAAAAAAAAAAAAAAAAAAAAAAAAAAAAAAAAAAAAAAAAAAAAAAAAAAAAAAAAAAAAAAAAAAAAAAAAAAAAAAAAAAAAAAAAAAAAAAAAAAAAAAAAAAAAAAAAAAAAAAAAAAAAAAAAAAAAAAAAAAAAAAAAAAAAAAAAAAAAAAAAAAAAAAAAAAAAAAAAAAAAAAAAAAAAAAAAAAAAAAAAAAAAAAAAAAAAAAAAAAAAAAAAAAAAAAAAAAAAAAAAAAAAAAAAAAAAAAAAAAAAAAAAAAAAAAAAAAAAAAAAAAAAAAAAAAAAAAAAAAAAAAAAAAAAAAAAAAAAAAAAAAAAAAAAAAAAAAAAAAAAAAAAAAAAAAAAAAAAAAAAAAAAAAAAAAAAAAAAAAAAAAAAAAAAAAAAAAAAAAAAAAAAAAAAAAAAAAAAAAAAAAAAAAAAAAAAAAAAAAAAAAB4rpbJ5uPUPltvWKXu1gI/LgoAQrB0Jz8T20NTCoFEP5DtbU7hhlk/RcF+AjIFZz9oyHbV9ENvP7mtHuCVi3E/I9qipN34cj+eEQu+Zf91P3M5W7dOlno/hhrW+zCGfz8t82B45geCPzjMdumDRoQ/50sYuAEAhz/I6wRjMFKKPzYkzk60yo0/lLcX4mKXkD8R3QaQ+UqSP/iiYBKv7pM/WzGOEpBtlT9NKaa3j9+WP9C0gB1UTJg/a+gpOfyImT+G/URPPJyaP0Q9NBcKmZs/yn+/SZhInD/SE6+QonCcP2t16FFehZs/oOWHSnhOmD/59nVrr2WSP6BBx2S5J4c/YwZh6B07eT8B2IrAF4JsP++yuMFzSWY/me6VpXosaD+pncUiA+NsP3lsu3YIznA/EG0LDtN8cj/Da04Y0bpzPzwY1MxdpXU/mzHKge2MeT9WL1U1KDaAP/kmz+CFKYU/+cRXigj5ij/iEzi9EWmQP/3w78EglZM/M+AAUzN0mD+O1d73J4+gP2ed1L5bY6c/yFdO8LVDsD8i2BqfJ7+1P++cae1V6Ls/ST8joiUmwT8AYKajJRHEP7MOjMJXacY/T5TVQRxtyD+o294RKwPLP4qTAe7HMc8/smd/1lWp0j965HXqnIDWPyTaHbcd49o/IR8NweSe3z9Q5EgpaSniP9lUfUl8OuQ/g7aFjkXe5T/E/uOSJyHnPzrezVaE/uc/hF9GGLtS6D8ORjLMOh7oP/750WsIj+c/VoRW5jO65j/sXOxHD3XlPynKlYiTheM/o/gEelzg4D8M25v2UGfbP/eFLkCttdQ/2xpWiKg+zT8wfGRxGvTDP7AtyR6Y37s/2y6mZdBXtD/JnOSkBaOtP2gfZDoGh6Q/snGE1HV6mj957vvPv/OOPxTzwudttX8/buWntYpsbD+ZB58r/bZWP+y+8ZvPfkA/29UQgdm8Lj9jxWnmMj8xPy7UYgu39Dc/N5OZpVExOj/e3p7S9m43P4w8GXYSXDM/FP0P5dDQLD+VxNKXWJEgPwpZMw/GQQo/Ub1aqPVQ6z6VwZzE4lfCPg==\"},\"shape\":[200],\"dtype\":\"float64\",\"order\":\"little\"}]]}}},\"view\":{\"type\":\"object\",\"name\":\"CDSView\",\"id\":\"p3329\",\"attributes\":{\"filter\":{\"type\":\"object\",\"name\":\"AllIndices\",\"id\":\"p3330\"}}},\"glyph\":{\"type\":\"object\",\"name\":\"Patch\",\"id\":\"p3325\",\"attributes\":{\"tags\":[\"apply_ranges\"],\"x\":{\"type\":\"field\",\"field\":\"x\"},\"y\":{\"type\":\"field\",\"field\":\"y\"},\"fill_color\":\"#30a2da\",\"fill_alpha\":0.5,\"hatch_color\":\"#30a2da\"}},\"selection_glyph\":{\"type\":\"object\",\"name\":\"Patch\",\"id\":\"p3333\",\"attributes\":{\"tags\":[\"apply_ranges\"],\"x\":{\"type\":\"field\",\"field\":\"x\"},\"y\":{\"type\":\"field\",\"field\":\"y\"},\"fill_color\":\"#30a2da\",\"fill_alpha\":0.5,\"hatch_color\":\"#30a2da\"}},\"nonselection_glyph\":{\"type\":\"object\",\"name\":\"Patch\",\"id\":\"p3326\",\"attributes\":{\"tags\":[\"apply_ranges\"],\"x\":{\"type\":\"field\",\"field\":\"x\"},\"y\":{\"type\":\"field\",\"field\":\"y\"},\"line_alpha\":1,\"fill_color\":\"#30a2da\",\"fill_alpha\":0.5,\"hatch_color\":\"#30a2da\",\"hatch_alpha\":0.1}},\"muted_glyph\":{\"type\":\"object\",\"name\":\"Patch\",\"id\":\"p3327\",\"attributes\":{\"tags\":[\"apply_ranges\"],\"x\":{\"type\":\"field\",\"field\":\"x\"},\"y\":{\"type\":\"field\",\"field\":\"y\"},\"line_alpha\":0.2,\"fill_color\":\"#30a2da\",\"fill_alpha\":0.2,\"hatch_color\":\"#30a2da\",\"hatch_alpha\":0.2}}}},{\"type\":\"object\",\"name\":\"GlyphRenderer\",\"id\":\"p3343\",\"attributes\":{\"name\":\"ultrasound\",\"data_source\":{\"type\":\"object\",\"name\":\"ColumnDataSource\",\"id\":\"p3334\",\"attributes\":{\"selected\":{\"type\":\"object\",\"name\":\"Selection\",\"id\":\"p3335\",\"attributes\":{\"indices\":[],\"line_indices\":[]}},\"selection_policy\":{\"type\":\"object\",\"name\":\"UnionRenderers\",\"id\":\"p3336\"},\"data\":{\"type\":\"map\",\"entries\":[[\"x\",{\"type\":\"ndarray\",\"array\":{\"type\":\"bytes\",\"data\":\"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\"},\"shape\":[200],\"dtype\":\"float64\",\"order\":\"little\"}],[\"y\",{\"type\":\"ndarray\",\"array\":{\"type\":\"bytes\",\"data\":\"AAAAAAAAAAAAAAAAAAAAAAAAAAAAAAAAAAAAAAAAAAAAAAAAAAAAAAAAAAAAAAAAAAAAAAAAAAAAAAAAAAAAAAAAAAAAAAAAAAAAAAAAAAAAAAAAAAAAAAAAAAAAAAAAAAAAAAAAAAAAAAAAAAAAAAAAAAAAAAAAAAAAAAAAAAAAAAAAAAAAAAAAAAAAAAAAAAAAAAAAAAAAAAAAAAAAAAAAAAAAAAAAAAAAAAAAAAAAAAAAAAAAAAAAAAAAAAAAAAAAAAAAAAAAAAAAAAAAAAAAAAAAAAAAAAAAAAAAAAAAAAAAAAAAAAAAAAAAAAAAAAAAAAAAAAAAAAAAAAAAAAAAAAAAAAAAAAAAAAAAAAAAAAAAAAAAAAAAAAAAAAAAAAAAAAAAAAAAAAAAAAAAAAAAAAAAAAAAAAAAAAAAAAAAAAAAAAAAAAAAAAAAAAAAAAAAAAAAAAAAAAAAAAAAAAAAAAAAAAAAAAAAAAAAAAAAAAAAAAAAAAAAAAAAAAAAAAAAAAAAAAAAAAAAAAAAAAAAAAAAAAAAAAAAAAAAAAAAAAAAAAAAAAAAAAAAAAAAAAAAAAAAAAAAAAAAAAAAAAAAAAAAAAAAAAAAAAAAAAAAAAAAAAAAAAAAAAAAAAAAAAAAAAAAAAAAAAAAAAAAAAAAAAAAAAAAAAAAAAAAAAAAAAAAAAAAAAAAAAAAAAAAAAAAAAAAAAAAAAAAAAAAAAAAAAAAAAAAAAAAAAAAAAAAAAAAAAAAAAAAAAAAAAAAAAAAAAAAAAAAAAAAAAAAAAAAAAAAAAAAAAAAAAAAAAAAAAAAAAAAAAAAAAAAAAAAAAAAAAAAAAAAAAAAAAAAAAAAAAAAAAAAAAAAAAAAAAAAAAAAAAAAAAAAAAAAAAAAAAAAAAAAAAAAAAAAAAAAAAAAAAAAAAAAAAAAAAAAAAAAAAAAAAAAAAAAAAAAAAAAAAAAAAAAAAAAAAAAAAAAAAAAAAAAAAAAAAAAAAAAAAAAAAAAAAAAAAAAAAAAAAAAAAAAAAAAAAAAAAAAAAAAAAAAAAAAAAAAAAAAAAAAAADO19XYnkLQPpDx++a/fAA/MQcmupqBJj/z/xI8cy9FP0bKq1rDOFw/E3ZqV2hLaz8cI5/sAY1zP8kqWeGbAXU/YyJmu5a3cT+DP3ilLfZsP7rtpCWdq28/tLD+8gDodD+exFwtj5N5P5cNvTs2iXo/NgWZIo90dz93qWkx6MFzP7q0s5A7c3M/TadnW00qdz/lQK8Qjvl8P/2Ny4/PRoE/plo76RzNgj+djoAv5e2CPzg5C2nxqoI/rWTuErnSgj/QxRkErRWEPzLwPz8FrIY/eAZH5OveiD+M75oqv6WIPx1bA3n8sYY/fss6HJjLhT+PgdcUl8WHPxaw4kxgi4s/UasTEaOzjT98uPY/tTmLP6zXspaW34Q/u65jV+JXfj9lsb3fCuV6P6bX4NaFeX0/YDPebXo9gD9F472SmqqAPw562zCA4oA/uEf6ZYYggj9fM9CG7GyEP90YVO1Tc4Y/lr9SqFGshj9CSXq9AY+FPxQc/R7mOoU/8R11vRF4hj+K4pqo1YOIP+66LCodgIs/NPJujdnujz/l5RxNsBSTPxQXOXumaZg/lvgymfHxoD9TwyPQ8AioP18V+MBlVrA/ZVvpkgKHtD8q0vF58c+3P1JoZvOIk7o/2dDVWZBmvj+8xX9KtXrCP6phpzzZWsc/bm2GVa8kzT/bdJ47YFnRP9vefC7BiNM/CIXGhUnu1D9GmyOT5xvWP8xuXAE1fdg/4nbPK4323D83b/frCkjhP3JsVORFhOM/mX2LoR2L5D9OnvtO8sPkP8O7Tmskx+Q/EJCpejPH5D8yab4dt83kP09uKGE+0OQ/iafgEYi45D+zY+P6KljkP4dGvH/BiuM/d3C58Ixv4j9XQh14y9TgP7ctgGmiRtw/qxGYXEgQ1T9OiBa+XPfLP9glaXCM8sA/8i9+1W3Rsz+cMCI0ioapP1L2GooStKM/tMoZkk5ToD8HV6WmYP2YP8RUkhLfF5A/1/fZRxeegD+K1+8cViNsP89tyIR+1VY/HvEvTv61RD+eYIKmp/gxP4w6xsdgdBc/qObbb1KK9D7ZPdTL5i/HPg==\"},\"shape\":[200],\"dtype\":\"float64\",\"order\":\"little\"}]]}}},\"view\":{\"type\":\"object\",\"name\":\"CDSView\",\"id\":\"p3344\",\"attributes\":{\"filter\":{\"type\":\"object\",\"name\":\"AllIndices\",\"id\":\"p3345\"}}},\"glyph\":{\"type\":\"object\",\"name\":\"Patch\",\"id\":\"p3340\",\"attributes\":{\"tags\":[\"apply_ranges\"],\"x\":{\"type\":\"field\",\"field\":\"x\"},\"y\":{\"type\":\"field\",\"field\":\"y\"},\"fill_color\":\"#fc4f30\",\"fill_alpha\":0.5,\"hatch_color\":\"#fc4f30\"}},\"selection_glyph\":{\"type\":\"object\",\"name\":\"Patch\",\"id\":\"p3347\",\"attributes\":{\"tags\":[\"apply_ranges\"],\"x\":{\"type\":\"field\",\"field\":\"x\"},\"y\":{\"type\":\"field\",\"field\":\"y\"},\"fill_color\":\"#fc4f30\",\"fill_alpha\":0.5,\"hatch_color\":\"#fc4f30\"}},\"nonselection_glyph\":{\"type\":\"object\",\"name\":\"Patch\",\"id\":\"p3341\",\"attributes\":{\"tags\":[\"apply_ranges\"],\"x\":{\"type\":\"field\",\"field\":\"x\"},\"y\":{\"type\":\"field\",\"field\":\"y\"},\"line_alpha\":1,\"fill_color\":\"#fc4f30\",\"fill_alpha\":0.5,\"hatch_color\":\"#fc4f30\",\"hatch_alpha\":0.1}},\"muted_glyph\":{\"type\":\"object\",\"name\":\"Patch\",\"id\":\"p3342\",\"attributes\":{\"tags\":[\"apply_ranges\"],\"x\":{\"type\":\"field\",\"field\":\"x\"},\"y\":{\"type\":\"field\",\"field\":\"y\"},\"line_alpha\":0.2,\"fill_color\":\"#fc4f30\",\"fill_alpha\":0.2,\"hatch_color\":\"#fc4f30\",\"hatch_alpha\":0.2}}}},{\"type\":\"object\",\"name\":\"GlyphRenderer\",\"id\":\"p3357\",\"attributes\":{\"name\":\"flashbots\",\"data_source\":{\"type\":\"object\",\"name\":\"ColumnDataSource\",\"id\":\"p3348\",\"attributes\":{\"selected\":{\"type\":\"object\",\"name\":\"Selection\",\"id\":\"p3349\",\"attributes\":{\"indices\":[],\"line_indices\":[]}},\"selection_policy\":{\"type\":\"object\",\"name\":\"UnionRenderers\",\"id\":\"p3350\"},\"data\":{\"type\":\"map\",\"entries\":[[\"x\",{\"type\":\"ndarray\",\"array\":{\"type\":\"bytes\",\"data\":\"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\"},\"shape\":[200],\"dtype\":\"float64\",\"order\":\"little\"}],[\"y\",{\"type\":\"ndarray\",\"array\":{\"type\":\"bytes\",\"data\":\"AAAAAAAAAAAAAAAAAAAAAAAAAAAAAAAAAAAAAAAAAAAAAAAAAAAAAAAAAAAAAAAAAAAAAAAAAAAAAAAAAAAAAAAAAAAAAAAAAAAAAAAAAAAAAAAAAAAAAAAAAAAAAAAAAAAAAAAAAAAAAAAAAAAAAAAAAAAAAAAAAAAAAAAAAAAAAAAAAAAAAAAAAAAAAAAAAAAAAAAAAAAAAAAAAAAAAAAAAAAAAAAAAAAAAAAAAAAAAAAAAAAAAAAAAAAAAAAAAAAAAAAAAAAAAAAAAAAAAAAAAAAAAAAAAAAAAAAAAAAAAAAAAAAAAAAAAAAAAAAAAAAAAAAAAAAAAAAAAAAAAAAAAAAAAAAAAAAAAAAAAAAAAAAAAAAAAAAAAAAAAAAAAAAAAAAAAAAAAAAAAAAAAAAAAAAAAAAAAAAAAAAAAAAAAAAAAAAAAAAAAAAAAAAAAAAAAAAAAAAAAAAAAAAAAAAAAAAAAAAAAAAAAAAAAAAAAAAAAAAAAAAAAAAAAAAAAAAAAAAAAAAAAAAAAAAAAAAAAAAAAAAAAAAAAAAAAAAAAAAAAAAAAAAAAAAAAAAAAAAAAAAAAAAAAAAAAAAAAAAAAAAAAAAAAAAAAAAAAAAAAAAAAAAAAAAAAAAAAAAAAAAAAAAAAAAAAAAAAAAAAAAAAAAAAAAAAAAAAAAAAAAAAAAAAAAAAAAAAAAAAAAAAAAAAAAAAAAAAAAAAAAAAAAAAAAAAAAAAAAAAAAAAAAAAAAAAAAAAAAAAAAAAAAAAAAAAAAAAAAAAAAAAAAAAAAAAAAAAAAAAAAAAAAAAAAAAAAAAAAAAAAAAAAAAAAAAAAAAAAAAAAAAAAAAAAAAAAAAAAAAAAAAAAAAAAAAAAAAAAAAAAAAAAAAAAAAAAAAAAAAAAAAAAAAAAAAAAAAAAAAAAAAAAAAAAAAAAAAAAAAAAAAAAAAAAAAAAAAAAAAAAAAAAAAAAAAAAAAAAAAAAAAAAAAAAAAAAAAAAAAAAAAAAAAAAAAAAAAAAAAAAAAAAAAAAAAAAAAAAAAAAAAAAAAAAAAAAAAAAAAAAAAADiccfKmxvOPm7TKlfZkAg/xf38myVWLj9/M8cmbpM8P1qdf+NvFzc/9FuoK47+Mz/wDUVGJyA8P5AtvyHL/zQ/awxluBiwIz/mkdOSiewoP3xy6X4cIis/aU2Cx0hxGD8dDKxPeAUQPxdPexSuwig/kDjawV5xOD+H3ILGVtw/P2DUx0eiDDs/yI6cvj0mMj/b+qw27d42P8/A74/xN0A/V+erd3aDRT8zzVb+XldKPwPSTV2Tg0g/pW3rL33VRT/kV3b0A95HPyiiMV/GWEU/B1WTHnnOPT94zKwTnvg5P1Ai1kQnhzo/o1wuQ224OD9xAxJ6ylQzP/+j3YTuxTM/UFbpRAKmQj+Yc2sOLZBPP3C946IrGlY/dh2L+VSdWD+LQU9d1+tWP5B0zHU0ZFM/hZQmozyeTz9WOWHgKJJJP1Qkk2tqvUQ/h6LTsWR2ST/iairGUuNXP4LDRY7dBmc/oQc3TCAPcT9ijxyu+2R1P9JcAm7T4Hs/GRz6GCX7gD9S+Dc5PkuCPyDBnnU9z4Q/vALID6r5iz8cYUtDHqaSP/AzDcYFU5k/mjKoCNQzpD8+SO60lJ2wP65E63SHLbk/wdC8fptewT+EFaIogKXFP2ONzsxg0Mc/9/F3JQ3rxj9GsCImGkHFPy1iOUVp4MY/TmvBx9y1yz+JXQBlQKHQP5xoaEKmtNM/CBUvc/ei1z9wBLFyFYHcP4HEISIwxuA/CUGvpVkV4z97W0jPvRvlP5JjfdDxLuY/dwCBnVQx5j+tDZUqFP7lPyrJ9Yw0oeY/815AEfxZ6D/SLJGIjwjqPzopqujnWOo/4EICFGnR6D/taEeT9o7lPz+H5s/V6uA/pn8jFUCd2D/Wd7LlJM/RP5owcZSPFcw/BaavwPQuyD9OEcq9dZfEP93vqb5zWsA/WssHX7qPuD//e53te+iwP3KFArr3cqY/yyfAYA86oj+sIXkduHOgP5I2FoBEtpg/BiukPJvLjD+YcNvEkqN6P0cet4pZdGg/WIvj5Qb6XT8MRUN5/bxRPw358E/6aTk/FhRUBEjZED8erp94V27SPg==\"},\"shape\":[200],\"dtype\":\"float64\",\"order\":\"little\"}]]}}},\"view\":{\"type\":\"object\",\"name\":\"CDSView\",\"id\":\"p3358\",\"attributes\":{\"filter\":{\"type\":\"object\",\"name\":\"AllIndices\",\"id\":\"p3359\"}}},\"glyph\":{\"type\":\"object\",\"name\":\"Patch\",\"id\":\"p3354\",\"attributes\":{\"tags\":[\"apply_ranges\"],\"x\":{\"type\":\"field\",\"field\":\"x\"},\"y\":{\"type\":\"field\",\"field\":\"y\"},\"fill_color\":\"#e5ae38\",\"fill_alpha\":0.5,\"hatch_color\":\"#e5ae38\"}},\"selection_glyph\":{\"type\":\"object\",\"name\":\"Patch\",\"id\":\"p3361\",\"attributes\":{\"tags\":[\"apply_ranges\"],\"x\":{\"type\":\"field\",\"field\":\"x\"},\"y\":{\"type\":\"field\",\"field\":\"y\"},\"fill_color\":\"#e5ae38\",\"fill_alpha\":0.5,\"hatch_color\":\"#e5ae38\"}},\"nonselection_glyph\":{\"type\":\"object\",\"name\":\"Patch\",\"id\":\"p3355\",\"attributes\":{\"tags\":[\"apply_ranges\"],\"x\":{\"type\":\"field\",\"field\":\"x\"},\"y\":{\"type\":\"field\",\"field\":\"y\"},\"line_alpha\":1,\"fill_color\":\"#e5ae38\",\"fill_alpha\":0.5,\"hatch_color\":\"#e5ae38\",\"hatch_alpha\":0.1}},\"muted_glyph\":{\"type\":\"object\",\"name\":\"Patch\",\"id\":\"p3356\",\"attributes\":{\"tags\":[\"apply_ranges\"],\"x\":{\"type\":\"field\",\"field\":\"x\"},\"y\":{\"type\":\"field\",\"field\":\"y\"},\"line_alpha\":0.2,\"fill_color\":\"#e5ae38\",\"fill_alpha\":0.2,\"hatch_color\":\"#e5ae38\",\"hatch_alpha\":0.2}}}},{\"type\":\"object\",\"name\":\"GlyphRenderer\",\"id\":\"p3371\",\"attributes\":{\"name\":\"agnostic\",\"data_source\":{\"type\":\"object\",\"name\":\"ColumnDataSource\",\"id\":\"p3362\",\"attributes\":{\"selected\":{\"type\":\"object\",\"name\":\"Selection\",\"id\":\"p3363\",\"attributes\":{\"indices\":[],\"line_indices\":[]}},\"selection_policy\":{\"type\":\"object\",\"name\":\"UnionRenderers\",\"id\":\"p3364\"},\"data\":{\"type\":\"map\",\"entries\":[[\"x\",{\"type\":\"ndarray\",\"array\":{\"type\":\"bytes\",\"data\":\"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\"},\"shape\":[200],\"dtype\":\"float64\",\"order\":\"little\"}],[\"y\",{\"type\":\"ndarray\",\"array\":{\"type\":\"bytes\",\"data\":\"AAAAAAAAAAAAAAAAAAAAAAAAAAAAAAAAAAAAAAAAAAAAAAAAAAAAAAAAAAAAAAAAAAAAAAAAAAAAAAAAAAAAAAAAAAAAAAAAAAAAAAAAAAAAAAAAAAAAAAAAAAAAAAAAAAAAAAAAAAAAAAAAAAAAAAAAAAAAAAAAAAAAAAAAAAAAAAAAAAAAAAAAAAAAAAAAAAAAAAAAAAAAAAAAAAAAAAAAAAAAAAAAAAAAAAAAAAAAAAAAAAAAAAAAAAAAAAAAAAAAAAAAAAAAAAAAAAAAAAAAAAAAAAAAAAAAAAAAAAAAAAAAAAAAAAAAAAAAAAAAAAAAAAAAAAAAAAAAAAAAAAAAAAAAAAAAAAAAAAAAAAAAAAAAAAAAAAAAAAAAAAAAAAAAAAAAAAAAAAAAAAAAAAAAAAAAAAAAAAAAAAAAAAAAAAAAAAAAAAAAAAAAAAAAAAAAAAAAAAAAAAAAAAAAAAAAAAAAAAAAAAAAAAAAAAAAAAAAAAAAAAAAAAAAAAAAAAAAAAAAAAAAAAAAAAAAAAAAAAAAAAAAAAAAAAAAAAAAAAAAAAAAAAAAAAAAAAAAAAAAAAAAAAAAAAAAAAAAAAAAAAAAAAAAAAAAAAAAAAAAAAAAAAAAAAAAAAAAAAAAAAAAAAAAAAAAAAAAAAAAAAAAAAAAAAAAAAAAAAAAAAAAAAAAAAAAAAAAAAAAAAAAAAAAAAAAAAAAAAAAAAAAAAAAAAAAAAAAAAAAAAAAAAAAAAAAAAAAAAAAAAAAAAAAAAAAAAAAAAAAAAAAAAAAAAAAAAAAAAAAAAAAAAAAAAAAAAAAAAAAAAAAAAAAAAAAAAAAAAAAAAAAAAAAAAAAAAAAAAAAAAAAAAAAAAAAAAAAAAAAAAAAAAAAAAAAAAAAAAAAAAAAAAAAAAAAAAAAAAAAAAAAAAAAAAAAAAAAAAAAAAAAAAAAAAAAAAAAAAAAAAAAAAAAAAAAAAAAAAAAAAAAAAAAAAAAAAAAAAAAAAAAAAAAAAAAAAAAAAAAAAAAAAAAAAAAAAAAAAAAAAAAAAAAAAAAAAAAAAAAAAAAAADwLyeJOg3EPlnE0j7UgvQ+7cqfrLnGFT9P3wA2MQ0oP/XFrx7mTyw/3/sq8l0lJj8CZo4eje0pPz0yuUgHhDU/Oa650fE5OT/I8mI4pZ4yP6S4c8E0ySY/FVHr66tVKD+ZveHCnPMsP4uikFteUCc/LqPH4bSHKz+9g6bK945APz7vqPEFn04/MeLAmDPpUj+QkBMev/dSP+q1twqV9VY/YJPVoBJZYD/Bx/EonGtjP8XZgmo6RWQ/AXcLxh/zZj9Ne0dYY6ZsP8PwJD2xanI/el1lwSFOdj/+bcZ2cCx5PwWSmto3kXw/71++MI0MgD9aTAf+RqeAPwqCyQiUiIA/RcsOqLTHgT/nqhKf4eaEPz6Zz6a4DYg/zpDrOPXXiD8AERd7hmGHP5HL9tiEu4U/c1ZgG8gChT/6DlZGRymFP4LfNg7ePIU/BDsb1dZShT82TpkkhS2GP/lwRvVUoIc/Ci6VBCU1iT+n3Bshm8mKP6irkahW54w/h//kVDsRjz9ijHiAFdWPP4GM9hweCpA/RLyBCWqEkT8pbF+lP5uWPwZaG+1MhKA/hd2b1s+PqD9hvJqH2FOxP1B5M5ljaLY/XzUzLTNhuj8zqM6Lvi69PzBooD6DYcA/2hlviRKCwz9tzbVR6ubHP9EK30dAr80/ljibRN280j90sFHDrD/XPyPGYtvUNNs/w2vatVJO3j9PmqTjZ8ngP/QYCOioleI/kvpwnhv24z9KtPbMwsXkP+Ew1+VMXOU/D509PZDq5T9Laa2leVvmP4tflM/QXOY/7SBiJNO15T9giTSHQk7kP2TOS42+L+I/CqkTCoTq3z+vMSYcjYncP3jytVGFIto/Imk9D0Ef2D+Epw84lqzVPy0mFH7mMNI/+n4rf36XzD+91GDdTkPFP0Ve3yfokr0/kW06EqkWtD9Q6Z0HkcytP81JXZV9Eqk/xsyBjuV3pj9RfkZayNOjP4RR8+vLfqA/nr7d/pX9mT+qS2UPluKTP82yq/bKAo0/bnwaGxzfgT+XmAQgd6VvP/C0ESdU4FE/2tKON939Jz8o8Tt27E7yPg==\"},\"shape\":[200],\"dtype\":\"float64\",\"order\":\"little\"}]]}}},\"view\":{\"type\":\"object\",\"name\":\"CDSView\",\"id\":\"p3372\",\"attributes\":{\"filter\":{\"type\":\"object\",\"name\":\"AllIndices\",\"id\":\"p3373\"}}},\"glyph\":{\"type\":\"object\",\"name\":\"Patch\",\"id\":\"p3368\",\"attributes\":{\"tags\":[\"apply_ranges\"],\"x\":{\"type\":\"field\",\"field\":\"x\"},\"y\":{\"type\":\"field\",\"field\":\"y\"},\"fill_color\":\"#6d904f\",\"fill_alpha\":0.5,\"hatch_color\":\"#6d904f\"}},\"selection_glyph\":{\"type\":\"object\",\"name\":\"Patch\",\"id\":\"p3375\",\"attributes\":{\"tags\":[\"apply_ranges\"],\"x\":{\"type\":\"field\",\"field\":\"x\"},\"y\":{\"type\":\"field\",\"field\":\"y\"},\"fill_color\":\"#6d904f\",\"fill_alpha\":0.5,\"hatch_color\":\"#6d904f\"}},\"nonselection_glyph\":{\"type\":\"object\",\"name\":\"Patch\",\"id\":\"p3369\",\"attributes\":{\"tags\":[\"apply_ranges\"],\"x\":{\"type\":\"field\",\"field\":\"x\"},\"y\":{\"type\":\"field\",\"field\":\"y\"},\"line_alpha\":1,\"fill_color\":\"#6d904f\",\"fill_alpha\":0.5,\"hatch_color\":\"#6d904f\",\"hatch_alpha\":0.1}},\"muted_glyph\":{\"type\":\"object\",\"name\":\"Patch\",\"id\":\"p3370\",\"attributes\":{\"tags\":[\"apply_ranges\"],\"x\":{\"type\":\"field\",\"field\":\"x\"},\"y\":{\"type\":\"field\",\"field\":\"y\"},\"line_alpha\":0.2,\"fill_color\":\"#6d904f\",\"fill_alpha\":0.2,\"hatch_color\":\"#6d904f\",\"hatch_alpha\":0.2}}}},{\"type\":\"object\",\"name\":\"GlyphRenderer\",\"id\":\"p3385\",\"attributes\":{\"name\":\"eden\",\"data_source\":{\"type\":\"object\",\"name\":\"ColumnDataSource\",\"id\":\"p3376\",\"attributes\":{\"selected\":{\"type\":\"object\",\"name\":\"Selection\",\"id\":\"p3377\",\"attributes\":{\"indices\":[],\"line_indices\":[]}},\"selection_policy\":{\"type\":\"object\",\"name\":\"UnionRenderers\",\"id\":\"p3378\"},\"data\":{\"type\":\"map\",\"entries\":[[\"x\",{\"type\":\"ndarray\",\"array\":{\"type\":\"bytes\",\"data\":\"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\"},\"shape\":[200],\"dtype\":\"float64\",\"order\":\"little\"}],[\"y\",{\"type\":\"ndarray\",\"array\":{\"type\":\"bytes\",\"data\":\"AAAAAAAAAAAAAAAAAAAAAAAAAAAAAAAAAAAAAAAAAAAAAAAAAAAAAAAAAAAAAAAAAAAAAAAAAAAAAAAAAAAAAAAAAAAAAAAAAAAAAAAAAAAAAAAAAAAAAAAAAAAAAAAAAAAAAAAAAAAAAAAAAAAAAAAAAAAAAAAAAAAAAAAAAAAAAAAAAAAAAAAAAAAAAAAAAAAAAAAAAAAAAAAAAAAAAAAAAAAAAAAAAAAAAAAAAAAAAAAAAAAAAAAAAAAAAAAAAAAAAAAAAAAAAAAAAAAAAAAAAAAAAAAAAAAAAAAAAAAAAAAAAAAAAAAAAAAAAAAAAAAAAAAAAAAAAAAAAAAAAAAAAAAAAAAAAAAAAAAAAAAAAAAAAAAAAAAAAAAAAAAAAAAAAAAAAAAAAAAAAAAAAAAAAAAAAAAAAAAAAAAAAAAAAAAAAAAAAAAAAAAAAAAAAAAAAAAAAAAAAAAAAAAAAAAAAAAAAAAAAAAAAAAAAAAAAAAAAAAAAAAAAAAAAAAAAAAAAAAAAAAAAAAAAAAAAAAAAAAAAAAAAAAAAAAAAAAAAAAAAAAAAAAAAAAAAAAAAAAAAAAAAAAAAAAAAAAAAAAAAAAAAAAAAAAAAAAAAAAAAAAAAAAAAAAAAAAAAAAAAAAAAAAAAAAAAAAAAAAAAAAAAAAAAAAAAAAAAAAAAAAAAAAAAAAAAAAAAAAAAAAAAAAAAAAAAAAAAAAAAAAAAAAAAAAAAAAAAAAAAAAAAAAAAAAAAAAAAAAAAAAAAAAAAAAAAAAAAAAAAAAAAAAAAAAAAAAAAAAAAAAAAAAAAAAAAAAAAAAAAAAAAAAAAAAAAAAAAAAAAAAAAAAAAAAAAAAAAAAAAAAAAAAAAAAAAAAAAAAAAAAAAAAAAAAAAAAAAAAAAAAAAAAAAAAAAAAAAAAAAAAAAAAAAAAAAAAAAAAAAAAAAAAAAAAAAAAAAAAAAAAAAAAAAAAAAAAAAAAAAAAAAAAAAAAAAAAAAAAAAAAAAAAAAAAAAAAAAAAAAAAAAAAAAAAAAAAAAAAAAAAAAAAAAAAAAAAAAAAAAAAAAACyKl8nWhPKPi4OSe4Uhfc+SfK7HM0NGD94JnvVe+QrPypU0yQYVjI/35GLK81WKz8fOYYX6kcXPxYZBnl0pf4+AajzBsHzDj8hLb4gIwguP8Ed6vSQMEI/tsObYgbgSj/+O8EA7GhKP2L40XRKmEY/cBXBJSNDRj/+eUDdxqtHP/Hc0EGXl08/L93n7821Wz8A4AQkO39kP7DXRAIBDGQ/KDQeZip7Wj/9Uba5uW9RP8ctGI9/clQ/qTG1HHQCYT+3c7YStZlqP+YlrAWX+W8/csQbu2SNaz81HSU9IGhiP37HKTww71k/00+xAF5LWT+z0lwIqntdP5ycvlTno2E/0CG6QhKNYz9jO4ZKbINhP0L5ASJcrVk/MnA92YcmVT8XZ6mFjP1ZP2b8Mi6mRGI/YONMs31gZj8CKUHxSyhnP76/vvNKi2c/HWPitXrYaz8brsW6yRByPywARWJjx3c/5D1sngHKgD9iMM7+WEiIP780W8/mdY4/spqMKqcfkD8vDGFas0CRP6B1RDsTq5U/vbIq65+nnT9wFt8i7mekP05lsX2jE6s/GQoRYTAhsD+HurFzFQCxP7g6sZKSjrE/IfYALaHOsz9OeFtTpsi4P669z/7jmcA/1nHARG0xxj/W1/mOMVbLP4J13ikc2c4/BwrKTmpK0T9lBnIAvo/UP/I/Iyeggdk/ASt/++9X3z97cAOoi1DiPx5RHHKM2+M/hxEs6Ao25D+TgvJjTmfkP5nn38hTU+U/TrGcBLff5j/BFBfm4SfoP+kiAR7WKug/svsah/+C5j+idRG4F7jjPznfBsZH8uA/+gnk5o/13T99l76EPo7bPz+2vr+NjNk/oB6C11fi1j9i313y1m3TP4xOPiMMlM8/lXu1xJqRyT85a3OBxLvFPxty9w32wsM/YD6KeHWDwj8cNf80Z7LAP9qxesI1rLw/Gizn5O1Nuj//5siwW8y8Py2ntM2oYsA/SVvnWpMzvz80cvsUk8m2PydNByFs6ak/lVDL0NeRlz8eXYN3HKeAP59V6iUb6WA/tahmS7rSNj+LhXN6dFcDPw==\"},\"shape\":[200],\"dtype\":\"float64\",\"order\":\"little\"}]]}}},\"view\":{\"type\":\"object\",\"name\":\"CDSView\",\"id\":\"p3386\",\"attributes\":{\"filter\":{\"type\":\"object\",\"name\":\"AllIndices\",\"id\":\"p3387\"}}},\"glyph\":{\"type\":\"object\",\"name\":\"Patch\",\"id\":\"p3382\",\"attributes\":{\"tags\":[\"apply_ranges\"],\"x\":{\"type\":\"field\",\"field\":\"x\"},\"y\":{\"type\":\"field\",\"field\":\"y\"},\"fill_color\":\"#8b8b8b\",\"fill_alpha\":0.5,\"hatch_color\":\"#8b8b8b\"}},\"selection_glyph\":{\"type\":\"object\",\"name\":\"Patch\",\"id\":\"p3389\",\"attributes\":{\"tags\":[\"apply_ranges\"],\"x\":{\"type\":\"field\",\"field\":\"x\"},\"y\":{\"type\":\"field\",\"field\":\"y\"},\"fill_color\":\"#8b8b8b\",\"fill_alpha\":0.5,\"hatch_color\":\"#8b8b8b\"}},\"nonselection_glyph\":{\"type\":\"object\",\"name\":\"Patch\",\"id\":\"p3383\",\"attributes\":{\"tags\":[\"apply_ranges\"],\"x\":{\"type\":\"field\",\"field\":\"x\"},\"y\":{\"type\":\"field\",\"field\":\"y\"},\"line_alpha\":1,\"fill_color\":\"#8b8b8b\",\"fill_alpha\":0.5,\"hatch_color\":\"#8b8b8b\",\"hatch_alpha\":0.1}},\"muted_glyph\":{\"type\":\"object\",\"name\":\"Patch\",\"id\":\"p3384\",\"attributes\":{\"tags\":[\"apply_ranges\"],\"x\":{\"type\":\"field\",\"field\":\"x\"},\"y\":{\"type\":\"field\",\"field\":\"y\"},\"line_alpha\":0.2,\"fill_color\":\"#8b8b8b\",\"fill_alpha\":0.2,\"hatch_color\":\"#8b8b8b\",\"hatch_alpha\":0.2}}}},{\"type\":\"object\",\"name\":\"GlyphRenderer\",\"id\":\"p3399\",\"attributes\":{\"name\":\"aestus\",\"data_source\":{\"type\":\"object\",\"name\":\"ColumnDataSource\",\"id\":\"p3390\",\"attributes\":{\"selected\":{\"type\":\"object\",\"name\":\"Selection\",\"id\":\"p3391\",\"attributes\":{\"indices\":[],\"line_indices\":[]}},\"selection_policy\":{\"type\":\"object\",\"name\":\"UnionRenderers\",\"id\":\"p3392\"},\"data\":{\"type\":\"map\",\"entries\":[[\"x\",{\"type\":\"ndarray\",\"array\":{\"type\":\"bytes\",\"data\":\"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\"},\"shape\":[200],\"dtype\":\"float64\",\"order\":\"little\"}],[\"y\",{\"type\":\"ndarray\",\"array\":{\"type\":\"bytes\",\"data\":\"AAAAAAAAAAAAAAAAAAAAAAAAAAAAAAAAAAAAAAAAAAAAAAAAAAAAAAAAAAAAAAAAAAAAAAAAAAAAAAAAAAAAAAAAAAAAAAAAAAAAAAAAAAAAAAAAAAAAAAAAAAAAAAAAAAAAAAAAAAAAAAAAAAAAAAAAAAAAAAAAAAAAAAAAAAAAAAAAAAAAAAAAAAAAAAAAAAAAAAAAAAAAAAAAAAAAAAAAAAAAAAAAAAAAAAAAAAAAAAAAAAAAAAAAAAAAAAAAAAAAAAAAAAAAAAAAAAAAAAAAAAAAAAAAAAAAAAAAAAAAAAAAAAAAAAAAAAAAAAAAAAAAAAAAAAAAAAAAAAAAAAAAAAAAAAAAAAAAAAAAAAAAAAAAAAAAAAAAAAAAAAAAAAAAAAAAAAAAAAAAAAAAAAAAAAAAAAAAAAAAAAAAAAAAAAAAAAAAAAAAAAAAAAAAAAAAAAAAAAAAAAAAAAAAAAAAAAAAAAAAAAAAAAAAAAAAAAAAAAAAAAAAAAAAAAAAAAAAAAAAAAAAAAAAAAAAAAAAAAAAAAAAAAAAAAAAAAAAAAAAAAAAAAAAAAAAAAAAAAAAAAAAAAAAAAAAAAAAAAAAAAAAAAAAAAAAAAAAAAAAAAAAAAAAAAAAAAAAAAAAAAAAAAAAAAAAAAAAAAAAAAAAAAAAAAAAAAAAAAAAAAAAAAAAAAAAAAAAAAAAAAAAAAAAAAAAAAAAAAAAAAAAAAAAAAAAAAAAAAAAAAAAAAAAAAAAAAAAAAAAAAAAAAAAAAAAAAAAAAAAAAAAAAAAAAAAAAAAAAAAAAAAAAAAAAAAAAAAAAAAAAAAAAAAAAAAAAAAAAAAAAAAAAAAAAAAAAAAAAAAAAAAAAAAAAAAAAAAAAAAAAAAAAAAAAAAAAAAAAAAAAAAAAAAAAAAAAAAAAAAAAAAAAAAAAAAAAAAAAAAAAAAAAAAAAAAAAAAAAAAAAAAAAAAAAAAAAAAAAAAAAAAAAAAAAAAAAAAAAAAAAAAAAAAAAAAAAAAAAAAAAAAAAAAAAAAAAAAAAAAAAAAAAAAAAAAAAAAAAAAAAAAAACBfgwx3NzKPjf+GymjgfU+eI9I2kNUFj/z9/EU+mIuP4zOI2dLkzs/M9gi17N/QT+RmfBD41BCP1xuy0O2F0Y/f/vpQQ5TUD9ePaKjh0RXP1aUlJJrIV8/M/d1A6GqZT8abimque5uP5PEIQ6rP3Q/1LTwYhbudj+c9NDkmI53PzVDvK6aTHk/JBOLaRg3fz9omue+6F6EPySzmGFsyog/YNkRCcqaij8JPyLs+w2KP89x6z218ok/LUUexY0DjD9Ldw4JM/6OP6QvCUdcXZA/WxdKej0rkD/vRTF1kI2OP07kHyhX94w/jFQER3CzjD8tFK1f4oyNPy9CZmfXgY4//Br4yJdTjz8soe2OWlKQP3ulIYcTDpE/xID/5rxJkT+xJn2M9e+QP7jMz8XpK5A/pUeCErfhjT++IPR0WaKKP/4KbOR4eoc/+hD2ijTohT8R82UQIcWHP7q1YlyBKY8/JmDtQ/V2lz8iYOFxh3+iP1a47239g6w/KvujVZPytD+Pjy67Qqu8P39sB88wscE/+IbdTjJswz+Shf7/yFrDP4qz/xzYPMI/7Ncnyl4JwT8B7exYQt/AP2CYJ/uO9sI//DAftI7nxz8DWycEEEnPP293qEU2J9Q/DKDZxAlM2T/Ce9TAkALfPzNrIoB6beI/sR4NMo355D9400HzwsHmP815TxwSuOc/mywRkQNE6D9LDZ+3ZfjoPyHWLOqV6Ok/zylSktR06j+jolYhdPDpP9cn7lSdOeg/3rMo5l+N5T9B5UwQNkLiP+szVZb9o90/gGswkYCR1z9oXCwHxQnTP6TsSr2yDtA/wVtx4+0QzD+3l2vyNrTIP2LWB5pufMU/NbSgppNKwj/bt4G3/ki+P9l5cstmbLg/gdR6NbmYsz9BtFKgejCwP38wm2P8u6s//B9dmcjspz/N07mCokKkPzNkIjz+wqA/y9qzBGKOmz9gYzf4pWyXP4sfbGBT3ZQ/nRibxbRUkj9HykMPQZSNP65At6aR64Q/8WkiX19YeD97N57fQWZlP1MqfmPkcEo/Xm0GDz72JT9O95Ga+vD3Pg==\"},\"shape\":[200],\"dtype\":\"float64\",\"order\":\"little\"}]]}}},\"view\":{\"type\":\"object\",\"name\":\"CDSView\",\"id\":\"p3400\",\"attributes\":{\"filter\":{\"type\":\"object\",\"name\":\"AllIndices\",\"id\":\"p3401\"}}},\"glyph\":{\"type\":\"object\",\"name\":\"Patch\",\"id\":\"p3396\",\"attributes\":{\"tags\":[\"apply_ranges\"],\"x\":{\"type\":\"field\",\"field\":\"x\"},\"y\":{\"type\":\"field\",\"field\":\"y\"},\"fill_color\":\"#17becf\",\"fill_alpha\":0.5,\"hatch_color\":\"#17becf\"}},\"selection_glyph\":{\"type\":\"object\",\"name\":\"Patch\",\"id\":\"p3403\",\"attributes\":{\"tags\":[\"apply_ranges\"],\"x\":{\"type\":\"field\",\"field\":\"x\"},\"y\":{\"type\":\"field\",\"field\":\"y\"},\"fill_color\":\"#17becf\",\"fill_alpha\":0.5,\"hatch_color\":\"#17becf\"}},\"nonselection_glyph\":{\"type\":\"object\",\"name\":\"Patch\",\"id\":\"p3397\",\"attributes\":{\"tags\":[\"apply_ranges\"],\"x\":{\"type\":\"field\",\"field\":\"x\"},\"y\":{\"type\":\"field\",\"field\":\"y\"},\"line_alpha\":1,\"fill_color\":\"#17becf\",\"fill_alpha\":0.5,\"hatch_color\":\"#17becf\",\"hatch_alpha\":0.1}},\"muted_glyph\":{\"type\":\"object\",\"name\":\"Patch\",\"id\":\"p3398\",\"attributes\":{\"tags\":[\"apply_ranges\"],\"x\":{\"type\":\"field\",\"field\":\"x\"},\"y\":{\"type\":\"field\",\"field\":\"y\"},\"line_alpha\":0.2,\"fill_color\":\"#17becf\",\"fill_alpha\":0.2,\"hatch_color\":\"#17becf\",\"hatch_alpha\":0.2}}}},{\"type\":\"object\",\"name\":\"GlyphRenderer\",\"id\":\"p3413\",\"attributes\":{\"name\":\"manifold\",\"data_source\":{\"type\":\"object\",\"name\":\"ColumnDataSource\",\"id\":\"p3404\",\"attributes\":{\"selected\":{\"type\":\"object\",\"name\":\"Selection\",\"id\":\"p3405\",\"attributes\":{\"indices\":[],\"line_indices\":[]}},\"selection_policy\":{\"type\":\"object\",\"name\":\"UnionRenderers\",\"id\":\"p3406\"},\"data\":{\"type\":\"map\",\"entries\":[[\"x\",{\"type\":\"ndarray\",\"array\":{\"type\":\"bytes\",\"data\":\"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\"},\"shape\":[200],\"dtype\":\"float64\",\"order\":\"little\"}],[\"y\",{\"type\":\"ndarray\",\"array\":{\"type\":\"bytes\",\"data\":\"AAAAAAAAAAAAAAAAAAAAAAAAAAAAAAAAAAAAAAAAAAAAAAAAAAAAAAAAAAAAAAAAAAAAAAAAAAAAAAAAAAAAAAAAAAAAAAAAAAAAAAAAAAAAAAAAAAAAAAAAAAAAAAAAAAAAAAAAAAAAAAAAAAAAAAAAAAAAAAAAAAAAAAAAAAAAAAAAAAAAAAAAAAAAAAAAAAAAAAAAAAAAAAAAAAAAAAAAAAAAAAAAAAAAAAAAAAAAAAAAAAAAAAAAAAAAAAAAAAAAAAAAAAAAAAAAAAAAAAAAAAAAAAAAAAAAAAAAAAAAAAAAAAAAAAAAAAAAAAAAAAAAAAAAAAAAAAAAAAAAAAAAAAAAAAAAAAAAAAAAAAAAAAAAAAAAAAAAAAAAAAAAAAAAAAAAAAAAAAAAAAAAAAAAAAAAAAAAAAAAAAAAAAAAAAAAAAAAAAAAAAAAAAAAAAAAAAAAAAAAAAAAAAAAAAAAAAAAAAAAAAAAAAAAAAAAAAAAAAAAAAAAAAAAAAAAAAAAAAAAAAAAAAAAAAAAAAAAAAAAAAAAAAAAAAAAAAAAAAAAAAAAAAAAAAAAAAAAAAAAAAAAAAAAAAAAAAAAAAAAAAAAAAAAAAAAAAAAAAAAAAAAAAAAAAAAAAAAAAAAAAAAAAAAAAAAAAAAAAAAAAAAAAAAAAAAAAAAAAAAAAAAAAAAAAAAAAAAAAAAAAAAAAAAAAAAAAAAAAAAAAAAAAAAAAAAAAAAAAAAAAAAAAAAAAAAAAAAAAAAAAAAAAAAAAAAAAAAAAAAAAAAAAAAAAAAAAAAAAAAAAAAAAAAAAAAAAAAAAAAAAAAAAAAAAAAAAAAAAAAAAAAAAAAAAAAAAAAAAAAAAAAAAAAAAAAAAAAAAAAAAAAAAAAAAAAAAAAAAAAAAAAAAAAAAAAAAAAAAAAAAAAAAAAAAAAAAAAAAAAAAAAAAAAAAAAAAAAAAAAAAAAAAAAAAAAAAAAAAAAAAAAAAAAAAAAAAAAAAAAAAAAAAAAAAAAAAAAAAAAAAAAAAAAAAAAAAAAAAAAAAAAAAAAAAAAAAAAAAAAAAAAAACkwJkrDX3YPsfJyu1YTfs+jfT0HbfrFz9SMrSnl4kwPxXXVUWyHEI/7lOYuzOGTz9lnTMUZNhVP0DMfCMHIVg/n/R7KBg7VT+/9hywDrdNP6o2Toh+f0A/yAk4G9r6LD8EvrewiBAUP8p72QLI1PU+Ik1VmFu80j7CwMMrWPOwPllgZSVaMb4+9WmU0jcv4T688TBJsNb/Ps16DNiA9RY/hf1ZHHMZKj/PJEEa/AI4Pyxmcoq7rkI/ruXP9hD0ST+fkAfebrFQP6xaNkxW7lM/aPVS+tAYVj/NHJzwN9ZXP5G5XVa2/1o/v4EOOzw2YD+NcZuvymtjP/PFGZY7umY/piYsO2SZaz99dtY+VqxyPxMqT8UfIHw/D9xq0BN9hj/BdL3LH1mSP6Df2355qZ0/1wj5Fbompz87qYHrWx+xPzwQPWwIv7c/y9JE0SK1vj+789IVEHLCP29rz9BzhsQ/+rIVTSYkxT9lzNz3VErEPxFBY1dDhsI/GSzBsgi9wD9gVQ67kZW/P3RkileBPcA/KRrWmf0+wj+k2DdHJqHFP4YsnjOxC8o/k3i7XKI9zz8j7ujKRpfSP1qYy49J9dU/bYQLKHmq2T+KQWLzLI3dPxp9UwmFs+A/lNIlSk9+4j8w17Et0gfkP7kklE3UOOU/0CdkCKUM5j9nNbmOyovmP7FudXkdvOY/MlrMNuCc5j8T7l3VtjHmP6UuJ6nBiOU/3DuP25av5D8xnJSTrqHjP9kod5J6SOI/3GGlCP6W4D++Szz/TkzdP4sl2/2wXdk/8zzsiqbN1T/KsuKmLc/SP62IvVtlZ9A/XYkrsS4bzT/Op+8++mTKPwiITobuf8g/oqXy/9dqxz9UpAM2XZnHPx5zWr1GzMk/Gvjj9Ig/zj+V1W4QoOXRP6tvXF38BtQ/KUPG1aht1D9So5ROd9vSP4ygJOny/M8/r0dvkUO0yT+EAd1bgzbEP2knkdcGeL8/S3Nx/7m0tz9xT5282oOwP7sw7+fgSKQ/6g/LJsQclT81eHcKbhWCPzpTaYh9+Wg/B3hkyxtqSz934LDPWLAnPw==\"},\"shape\":[200],\"dtype\":\"float64\",\"order\":\"little\"}]]}}},\"view\":{\"type\":\"object\",\"name\":\"CDSView\",\"id\":\"p3414\",\"attributes\":{\"filter\":{\"type\":\"object\",\"name\":\"AllIndices\",\"id\":\"p3415\"}}},\"glyph\":{\"type\":\"object\",\"name\":\"Patch\",\"id\":\"p3410\",\"attributes\":{\"tags\":[\"apply_ranges\"],\"x\":{\"type\":\"field\",\"field\":\"x\"},\"y\":{\"type\":\"field\",\"field\":\"y\"},\"fill_color\":\"#9467bd\",\"fill_alpha\":0.5,\"hatch_color\":\"#9467bd\"}},\"selection_glyph\":{\"type\":\"object\",\"name\":\"Patch\",\"id\":\"p3417\",\"attributes\":{\"tags\":[\"apply_ranges\"],\"x\":{\"type\":\"field\",\"field\":\"x\"},\"y\":{\"type\":\"field\",\"field\":\"y\"},\"fill_color\":\"#9467bd\",\"fill_alpha\":0.5,\"hatch_color\":\"#9467bd\"}},\"nonselection_glyph\":{\"type\":\"object\",\"name\":\"Patch\",\"id\":\"p3411\",\"attributes\":{\"tags\":[\"apply_ranges\"],\"x\":{\"type\":\"field\",\"field\":\"x\"},\"y\":{\"type\":\"field\",\"field\":\"y\"},\"line_alpha\":1,\"fill_color\":\"#9467bd\",\"fill_alpha\":0.5,\"hatch_color\":\"#9467bd\",\"hatch_alpha\":0.1}},\"muted_glyph\":{\"type\":\"object\",\"name\":\"Patch\",\"id\":\"p3412\",\"attributes\":{\"tags\":[\"apply_ranges\"],\"x\":{\"type\":\"field\",\"field\":\"x\"},\"y\":{\"type\":\"field\",\"field\":\"y\"},\"line_alpha\":0.2,\"fill_color\":\"#9467bd\",\"fill_alpha\":0.2,\"hatch_color\":\"#9467bd\",\"hatch_alpha\":0.2}}}}],\"toolbar\":{\"type\":\"object\",\"name\":\"Toolbar\",\"id\":\"p3297\",\"attributes\":{\"tools\":[{\"type\":\"object\",\"name\":\"WheelZoomTool\",\"id\":\"p3268\",\"attributes\":{\"tags\":[\"hv_created\"],\"renderers\":\"auto\",\"zoom_together\":\"none\"}},{\"type\":\"object\",\"name\":\"HoverTool\",\"id\":\"p3269\",\"attributes\":{\"tags\":[\"hv_created\"],\"renderers\":[{\"id\":\"p3328\"},{\"id\":\"p3343\"},{\"id\":\"p3357\"},{\"id\":\"p3371\"},{\"id\":\"p3385\"},{\"id\":\"p3399\"},{\"id\":\"p3413\"}],\"tooltips\":[[\"relay\",\"@{relay}\"],[\"latest_bid_since_block_seconds\",\"@{latest_bid_since_block_seconds}\"],[\"Density\",\"@{latest_bid_since_block_seconds_density}\"]]}},{\"type\":\"object\",\"name\":\"SaveTool\",\"id\":\"p3310\"},{\"type\":\"object\",\"name\":\"PanTool\",\"id\":\"p3311\"},{\"type\":\"object\",\"name\":\"BoxZoomTool\",\"id\":\"p3312\",\"attributes\":{\"overlay\":{\"type\":\"object\",\"name\":\"BoxAnnotation\",\"id\":\"p3313\",\"attributes\":{\"syncable\":false,\"level\":\"overlay\",\"visible\":false,\"left\":{\"type\":\"number\",\"value\":\"nan\"},\"right\":{\"type\":\"number\",\"value\":\"nan\"},\"top\":{\"type\":\"number\",\"value\":\"nan\"},\"bottom\":{\"type\":\"number\",\"value\":\"nan\"},\"left_units\":\"canvas\",\"right_units\":\"canvas\",\"top_units\":\"canvas\",\"bottom_units\":\"canvas\",\"line_color\":\"black\",\"line_alpha\":1.0,\"line_width\":2,\"line_dash\":[4,4],\"fill_color\":\"lightgrey\",\"fill_alpha\":0.5}}}},{\"type\":\"object\",\"name\":\"ResetTool\",\"id\":\"p3318\"}],\"active_drag\":{\"id\":\"p3311\"},\"active_scroll\":{\"id\":\"p3268\"}}},\"left\":[{\"type\":\"object\",\"name\":\"LinearAxis\",\"id\":\"p3305\",\"attributes\":{\"ticker\":{\"type\":\"object\",\"name\":\"BasicTicker\",\"id\":\"p3306\",\"attributes\":{\"mantissas\":[1,2,5]}},\"formatter\":{\"type\":\"object\",\"name\":\"BasicTickFormatter\",\"id\":\"p3307\"},\"axis_label\":\"Density\",\"major_label_policy\":{\"type\":\"object\",\"name\":\"AllLabels\",\"id\":\"p3308\"}}}],\"right\":[{\"type\":\"object\",\"name\":\"Legend\",\"id\":\"p3331\",\"attributes\":{\"location\":[0,0],\"title\":\"relay\",\"click_policy\":\"mute\",\"items\":[{\"type\":\"object\",\"name\":\"LegendItem\",\"id\":\"p3332\",\"attributes\":{\"label\":{\"type\":\"value\",\"value\":\"bloxrouteMaxProfit\"},\"renderers\":[{\"id\":\"p3328\"}]}},{\"type\":\"object\",\"name\":\"LegendItem\",\"id\":\"p3346\",\"attributes\":{\"label\":{\"type\":\"value\",\"value\":\"ultrasound\"},\"renderers\":[{\"id\":\"p3343\"}]}},{\"type\":\"object\",\"name\":\"LegendItem\",\"id\":\"p3360\",\"attributes\":{\"label\":{\"type\":\"value\",\"value\":\"flashbots\"},\"renderers\":[{\"id\":\"p3357\"}]}},{\"type\":\"object\",\"name\":\"LegendItem\",\"id\":\"p3374\",\"attributes\":{\"label\":{\"type\":\"value\",\"value\":\"agnostic\"},\"renderers\":[{\"id\":\"p3371\"}]}},{\"type\":\"object\",\"name\":\"LegendItem\",\"id\":\"p3388\",\"attributes\":{\"label\":{\"type\":\"value\",\"value\":\"eden\"},\"renderers\":[{\"id\":\"p3385\"}]}},{\"type\":\"object\",\"name\":\"LegendItem\",\"id\":\"p3402\",\"attributes\":{\"label\":{\"type\":\"value\",\"value\":\"aestus\"},\"renderers\":[{\"id\":\"p3399\"}]}},{\"type\":\"object\",\"name\":\"LegendItem\",\"id\":\"p3416\",\"attributes\":{\"label\":{\"type\":\"value\",\"value\":\"manifold\"},\"renderers\":[{\"id\":\"p3413\"}]}}]}}],\"below\":[{\"type\":\"object\",\"name\":\"LinearAxis\",\"id\":\"p3300\",\"attributes\":{\"ticker\":{\"type\":\"object\",\"name\":\"BasicTicker\",\"id\":\"p3301\",\"attributes\":{\"mantissas\":[1,2,5]}},\"formatter\":{\"type\":\"object\",\"name\":\"BasicTickFormatter\",\"id\":\"p3302\"},\"axis_label\":\"block bid time (seconds)\",\"major_label_policy\":{\"type\":\"object\",\"name\":\"AllLabels\",\"id\":\"p3303\"}}}],\"center\":[{\"type\":\"object\",\"name\":\"Grid\",\"id\":\"p3304\",\"attributes\":{\"axis\":{\"id\":\"p3300\"},\"grid_line_color\":null}},{\"type\":\"object\",\"name\":\"Grid\",\"id\":\"p3309\",\"attributes\":{\"dimension\":1,\"axis\":{\"id\":\"p3305\"},\"grid_line_color\":null}}],\"min_border_top\":10,\"min_border_bottom\":10,\"min_border_left\":10,\"min_border_right\":10,\"output_backend\":\"webgl\"}},{\"type\":\"object\",\"name\":\"Spacer\",\"id\":\"p3419\",\"attributes\":{\"name\":\"HSpacer06455\",\"stylesheets\":[\"\\n:host(.pn-loading):before, .pn-loading:before {\\n  background-color: #c3c3c3;\\n  mask-size: auto calc(min(50%, 400px));\\n  -webkit-mask-size: auto calc(min(50%, 400px));\\n}\",{\"id\":\"p3261\"},{\"id\":\"p3259\"},{\"id\":\"p3260\"}],\"margin\":0,\"sizing_mode\":\"stretch_width\",\"align\":\"start\"}}]}}],\"defs\":[{\"type\":\"model\",\"name\":\"ReactiveHTML1\"},{\"type\":\"model\",\"name\":\"FlexBox1\",\"properties\":[{\"name\":\"align_content\",\"kind\":\"Any\",\"default\":\"flex-start\"},{\"name\":\"align_items\",\"kind\":\"Any\",\"default\":\"flex-start\"},{\"name\":\"flex_direction\",\"kind\":\"Any\",\"default\":\"row\"},{\"name\":\"flex_wrap\",\"kind\":\"Any\",\"default\":\"wrap\"},{\"name\":\"gap\",\"kind\":\"Any\",\"default\":\"\"},{\"name\":\"justify_content\",\"kind\":\"Any\",\"default\":\"flex-start\"}]},{\"type\":\"model\",\"name\":\"FloatPanel1\",\"properties\":[{\"name\":\"config\",\"kind\":\"Any\",\"default\":{\"type\":\"map\"}},{\"name\":\"contained\",\"kind\":\"Any\",\"default\":true},{\"name\":\"position\",\"kind\":\"Any\",\"default\":\"right-top\"},{\"name\":\"offsetx\",\"kind\":\"Any\",\"default\":null},{\"name\":\"offsety\",\"kind\":\"Any\",\"default\":null},{\"name\":\"theme\",\"kind\":\"Any\",\"default\":\"primary\"},{\"name\":\"status\",\"kind\":\"Any\",\"default\":\"normalized\"}]},{\"type\":\"model\",\"name\":\"GridStack1\",\"properties\":[{\"name\":\"mode\",\"kind\":\"Any\",\"default\":\"warn\"},{\"name\":\"ncols\",\"kind\":\"Any\",\"default\":null},{\"name\":\"nrows\",\"kind\":\"Any\",\"default\":null},{\"name\":\"allow_resize\",\"kind\":\"Any\",\"default\":true},{\"name\":\"allow_drag\",\"kind\":\"Any\",\"default\":true},{\"name\":\"state\",\"kind\":\"Any\",\"default\":[]}]},{\"type\":\"model\",\"name\":\"drag1\",\"properties\":[{\"name\":\"slider_width\",\"kind\":\"Any\",\"default\":5},{\"name\":\"slider_color\",\"kind\":\"Any\",\"default\":\"black\"},{\"name\":\"value\",\"kind\":\"Any\",\"default\":50}]},{\"type\":\"model\",\"name\":\"click1\",\"properties\":[{\"name\":\"terminal_output\",\"kind\":\"Any\",\"default\":\"\"},{\"name\":\"debug_name\",\"kind\":\"Any\",\"default\":\"\"},{\"name\":\"clears\",\"kind\":\"Any\",\"default\":0}]},{\"type\":\"model\",\"name\":\"FastWrapper1\",\"properties\":[{\"name\":\"object\",\"kind\":\"Any\",\"default\":null},{\"name\":\"style\",\"kind\":\"Any\",\"default\":null}]},{\"type\":\"model\",\"name\":\"NotificationAreaBase1\",\"properties\":[{\"name\":\"js_events\",\"kind\":\"Any\",\"default\":{\"type\":\"map\"}},{\"name\":\"position\",\"kind\":\"Any\",\"default\":\"bottom-right\"},{\"name\":\"_clear\",\"kind\":\"Any\",\"default\":0}]},{\"type\":\"model\",\"name\":\"NotificationArea1\",\"properties\":[{\"name\":\"js_events\",\"kind\":\"Any\",\"default\":{\"type\":\"map\"}},{\"name\":\"notifications\",\"kind\":\"Any\",\"default\":[]},{\"name\":\"position\",\"kind\":\"Any\",\"default\":\"bottom-right\"},{\"name\":\"_clear\",\"kind\":\"Any\",\"default\":0},{\"name\":\"types\",\"kind\":\"Any\",\"default\":[{\"type\":\"map\",\"entries\":[[\"type\",\"warning\"],[\"background\",\"#ffc107\"],[\"icon\",{\"type\":\"map\",\"entries\":[[\"className\",\"fas fa-exclamation-triangle\"],[\"tagName\",\"i\"],[\"color\",\"white\"]]}]]},{\"type\":\"map\",\"entries\":[[\"type\",\"info\"],[\"background\",\"#007bff\"],[\"icon\",{\"type\":\"map\",\"entries\":[[\"className\",\"fas fa-info-circle\"],[\"tagName\",\"i\"],[\"color\",\"white\"]]}]]}]}]},{\"type\":\"model\",\"name\":\"Notification\",\"properties\":[{\"name\":\"background\",\"kind\":\"Any\",\"default\":null},{\"name\":\"duration\",\"kind\":\"Any\",\"default\":3000},{\"name\":\"icon\",\"kind\":\"Any\",\"default\":null},{\"name\":\"message\",\"kind\":\"Any\",\"default\":\"\"},{\"name\":\"notification_type\",\"kind\":\"Any\",\"default\":null},{\"name\":\"_destroyed\",\"kind\":\"Any\",\"default\":false}]},{\"type\":\"model\",\"name\":\"TemplateActions1\",\"properties\":[{\"name\":\"open_modal\",\"kind\":\"Any\",\"default\":0},{\"name\":\"close_modal\",\"kind\":\"Any\",\"default\":0}]},{\"type\":\"model\",\"name\":\"BootstrapTemplateActions1\",\"properties\":[{\"name\":\"open_modal\",\"kind\":\"Any\",\"default\":0},{\"name\":\"close_modal\",\"kind\":\"Any\",\"default\":0}]},{\"type\":\"model\",\"name\":\"TemplateEditor1\",\"properties\":[{\"name\":\"layout\",\"kind\":\"Any\",\"default\":[]}]},{\"type\":\"model\",\"name\":\"MaterialTemplateActions1\",\"properties\":[{\"name\":\"open_modal\",\"kind\":\"Any\",\"default\":0},{\"name\":\"close_modal\",\"kind\":\"Any\",\"default\":0}]},{\"type\":\"model\",\"name\":\"copy_to_clipboard1\",\"properties\":[{\"name\":\"fill\",\"kind\":\"Any\",\"default\":\"none\"},{\"name\":\"value\",\"kind\":\"Any\",\"default\":null}]}]}};\n",
       "  var render_items = [{\"docid\":\"f6098b36-ddff-42dc-ab48-1cd584fd95e3\",\"roots\":{\"p3258\":\"c1d8c7b8-27a3-413d-ba8c-d0c753b926f8\"},\"root_ids\":[\"p3258\"]}];\n",
       "  var docs = Object.values(docs_json)\n",
       "  if (!docs) {\n",
       "    return\n",
       "  }\n",
       "  const py_version = docs[0].version.replace('rc', '-rc.').replace('.dev', '-dev.')\n",
       "  function embed_document(root) {\n",
       "    var Bokeh = get_bokeh(root)\n",
       "    Bokeh.embed.embed_items_notebook(docs_json, render_items);\n",
       "    for (const render_item of render_items) {\n",
       "      for (const root_id of render_item.root_ids) {\n",
       "\tconst id_el = document.getElementById(root_id)\n",
       "\tif (id_el.children.length && (id_el.children[0].className === 'bk-root')) {\n",
       "\t  const root_el = id_el.children[0]\n",
       "\t  root_el.id = root_el.id + '-rendered'\n",
       "\t}\n",
       "      }\n",
       "    }\n",
       "  }\n",
       "  function get_bokeh(root) {\n",
       "    if (root.Bokeh === undefined) {\n",
       "      return null\n",
       "    } else if (root.Bokeh.version !== py_version) {\n",
       "      if (root.Bokeh.versions === undefined || !root.Bokeh.versions.has(py_version)) {\n",
       "\treturn null\n",
       "      }\n",
       "      return root.Bokeh.versions.get(py_version);\n",
       "    } else if (root.Bokeh.version === py_version) {\n",
       "      return root.Bokeh\n",
       "    }\n",
       "    return null\n",
       "  }\n",
       "  function is_loaded(root) {\n",
       "    var Bokeh = get_bokeh(root)\n",
       "    return (Bokeh != null && Bokeh.Panel !== undefined)\n",
       "  }\n",
       "  if (is_loaded(root)) {\n",
       "    embed_document(root);\n",
       "  } else {\n",
       "    var attempts = 0;\n",
       "    var timer = setInterval(function(root) {\n",
       "      if (is_loaded(root)) {\n",
       "        clearInterval(timer);\n",
       "        embed_document(root);\n",
       "      } else if (document.readyState == \"complete\") {\n",
       "        attempts++;\n",
       "        if (attempts > 200) {\n",
       "          clearInterval(timer);\n",
       "\t  var Bokeh = get_bokeh(root)\n",
       "\t  if (Bokeh == null || Bokeh.Panel == null) {\n",
       "            console.warn(\"Panel: ERROR: Unable to run Panel code because Bokeh or Panel library is missing\");\n",
       "\t  } else {\n",
       "\t    console.warn(\"Panel: WARNING: Attempting to render but not all required libraries could be resolved.\")\n",
       "\t    embed_document(root)\n",
       "\t  }\n",
       "        }\n",
       "      }\n",
       "    }, 25, root)\n",
       "  }\n",
       "})(window);</script>"
      ],
      "text/plain": [
       ":NdOverlay   [relay]\n",
       "   :Distribution   [latest_bid_since_block_seconds]   (Density)"
      ]
     },
     "execution_count": 81,
     "metadata": {
      "application/vnd.holoviews_exec.v0+json": {
       "id": "p3258"
      }
     },
     "output_type": "execute_result"
    }
   ],
   "source": [
    "bloxroute_table.plot.kde(y='latest_bid_since_block_seconds', by='relay', xlabel='block bid time (seconds)', title='latest block bids by relay')"
   ]
  },
  {
   "cell_type": "code",
   "execution_count": null,
   "metadata": {},
   "outputs": [],
   "source": []
  },
  {
   "cell_type": "code",
   "execution_count": null,
   "metadata": {},
   "outputs": [],
   "source": []
  }
 ],
 "metadata": {
  "kernelspec": {
   "display_name": ".venv",
   "language": "python",
   "name": "python3"
  },
  "language_info": {
   "codemirror_mode": {
    "name": "ipython",
    "version": 3
   },
   "file_extension": ".py",
   "mimetype": "text/x-python",
   "name": "python",
   "nbconvert_exporter": "python",
   "pygments_lexer": "ipython3",
   "version": "3.11.8"
  }
 },
 "nbformat": 4,
 "nbformat_minor": 2
}
