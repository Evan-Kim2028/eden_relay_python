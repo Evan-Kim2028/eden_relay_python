{
 "cells": [
  {
   "cell_type": "code",
   "execution_count": 2,
   "metadata": {},
   "outputs": [],
   "source": [
    "import bigframes.pandas as bpd\n",
    "import polars as pl"
   ]
  },
  {
   "cell_type": "code",
   "execution_count": 3,
   "metadata": {},
   "outputs": [
    {
     "data": {
      "text/html": [
       "Query job bad72bae-f8f1-4b5d-8da2-5a06f7b7aac9 is DONE. 5.9 MB processed. <a target=\"_blank\" href=\"https://console.cloud.google.com/bigquery?project=eden-relay&j=bq:US:bad72bae-f8f1-4b5d-8da2-5a06f7b7aac9&page=queryresults\">Open Job</a>"
      ],
      "text/plain": [
       "<IPython.core.display.HTML object>"
      ]
     },
     "metadata": {},
     "output_type": "display_data"
    }
   ],
   "source": [
    "df2 = bpd.read_gbq(\n",
    "    \"\"\"\n",
    "SELECT * FROM `eden-data-public.mev_boost.payloads` WHERE TIMESTAMP_TRUNC(block_timestamp, DAY) = TIMESTAMP(\"2024-03-12\")\n",
    "\"\"\"\n",
    ")"
   ]
  },
  {
   "cell_type": "code",
   "execution_count": 4,
   "metadata": {},
   "outputs": [
    {
     "data": {
      "text/html": [
       "Query job a0f82f10-fa3a-42b7-b4b8-db83a0db40f8 is DONE. 5.9 MB processed. <a target=\"_blank\" href=\"https://console.cloud.google.com/bigquery?project=eden-relay&j=bq:US:a0f82f10-fa3a-42b7-b4b8-db83a0db40f8&page=queryresults\">Open Job</a>"
      ],
      "text/plain": [
       "<IPython.core.display.HTML object>"
      ]
     },
     "metadata": {},
     "output_type": "display_data"
    }
   ],
   "source": [
    "df_pl = pl.from_pandas(df2.to_pandas())"
   ]
  },
  {
   "cell_type": "code",
   "execution_count": 6,
   "metadata": {},
   "outputs": [
    {
     "data": {
      "text/html": [
       "<div><style>\n",
       ".dataframe > thead > tr,\n",
       ".dataframe > tbody > tr {\n",
       "  text-align: right;\n",
       "  white-space: pre-wrap;\n",
       "}\n",
       "</style>\n",
       "<small>shape: (12_799, 14)</small><table border=\"1\" class=\"dataframe\"><thead><tr><th>block_timestamp</th><th>relay</th><th>slot</th><th>parent_hash</th><th>block_hash</th><th>builder_pubkey</th><th>proposer_pubkey</th><th>proposer_fee_recipient</th><th>gas_limit</th><th>gas_used</th><th>value</th><th>num_tx</th><th>block_number</th><th>reorged</th></tr><tr><td>datetime[μs, UTC]</td><td>str</td><td>i64</td><td>str</td><td>str</td><td>str</td><td>str</td><td>str</td><td>i64</td><td>i64</td><td>f64</td><td>i64</td><td>i64</td><td>bool</td></tr></thead><tbody><tr><td>2024-03-12 02:36:35 UTC</td><td>&quot;bloxrouteMaxPr…</td><td>8615581</td><td>&quot;0x2567c25a84ef…</td><td>&quot;0xa5e846bfedb0…</td><td>&quot;0xb211df498dfd…</td><td>&quot;0xb4a292ffc33a…</td><td>&quot;0xA8C62111e465…</td><td>30000000</td><td>24770061</td><td>7.6421e16</td><td>270</td><td>19416061</td><td>false</td></tr><tr><td>2024-03-12 06:07:35 UTC</td><td>&quot;aestus&quot;</td><td>8616636</td><td>&quot;0xcc90f45c6347…</td><td>&quot;0x0776e6bbb0b5…</td><td>&quot;0xb26f96664274…</td><td>&quot;0x8e750c8e3dac…</td><td>&quot;0xe688b84b23f3…</td><td>30000000</td><td>16137423</td><td>6.4143e16</td><td>190</td><td>19417107</td><td>false</td></tr><tr><td>2024-03-12 15:56:23 UTC</td><td>&quot;flashbots&quot;</td><td>8619580</td><td>&quot;0x0538d964d097…</td><td>&quot;0x444db3dbe3c5…</td><td>&quot;0xb67eaa5efcfa…</td><td>&quot;0x808ebe969299…</td><td>&quot;0x388C818CA8B9…</td><td>30000000</td><td>9967963</td><td>4.5729e16</td><td>131</td><td>19420034</td><td>false</td></tr><tr><td>2024-03-12 16:32:23 UTC</td><td>&quot;bloxrouteMaxPr…</td><td>8619760</td><td>&quot;0x0e0d3451b417…</td><td>&quot;0x978e89a86b3b…</td><td>&quot;0x8c75cfb66562…</td><td>&quot;0x99f6da0ae83b…</td><td>&quot;0xB3E84B6C6409…</td><td>30000000</td><td>14011372</td><td>4.5588e16</td><td>162</td><td>19420211</td><td>false</td></tr><tr><td>2024-03-12 14:39:23 UTC</td><td>&quot;agnostic&quot;</td><td>8619195</td><td>&quot;0xbe505a26cc1b…</td><td>&quot;0x9ba700df4694…</td><td>&quot;0xabc387dff20f…</td><td>&quot;0xa01e1f56e7e4…</td><td>&quot;0xe688b84b23f3…</td><td>30000000</td><td>13019378</td><td>3.8769e16</td><td>184</td><td>19419651</td><td>false</td></tr><tr><td>&hellip;</td><td>&hellip;</td><td>&hellip;</td><td>&hellip;</td><td>&hellip;</td><td>&hellip;</td><td>&hellip;</td><td>&hellip;</td><td>&hellip;</td><td>&hellip;</td><td>&hellip;</td><td>&hellip;</td><td>&hellip;</td><td>&hellip;</td></tr><tr><td>2024-03-12 01:31:59 UTC</td><td>&quot;bloxrouteRegul…</td><td>8615258</td><td>&quot;0x09cf907eb2db…</td><td>&quot;0x5b837382b884…</td><td>&quot;0x83d3495a2951…</td><td>&quot;0x93f976d94af7…</td><td>&quot;0x388C818CA8B9…</td><td>30000000</td><td>12282527</td><td>2.6329e16</td><td>132</td><td>19415739</td><td>false</td></tr><tr><td>2024-03-12 13:59:59 UTC</td><td>&quot;bloxrouteRegul…</td><td>8618998</td><td>&quot;0xbc398c8450a2…</td><td>&quot;0x0bf20a171170…</td><td>&quot;0xa21a2f4807a2…</td><td>&quot;0xa3a98f540a1e…</td><td>&quot;0x388C818CA8B9…</td><td>30000000</td><td>12617547</td><td>2.5553e17</td><td>150</td><td>19419455</td><td>false</td></tr><tr><td>2024-03-12 10:28:11 UTC</td><td>&quot;bloxrouteMaxPr…</td><td>8617939</td><td>&quot;0xee317ecf4efb…</td><td>&quot;0xc9799fd8fa9f…</td><td>&quot;0xb5d883565500…</td><td>&quot;0xb0074fed8496…</td><td>&quot;0x4675C7e5BaAF…</td><td>30000000</td><td>19264733</td><td>6.9769e16</td><td>274</td><td>19418400</td><td>false</td></tr><tr><td>2024-03-12 15:04:35 UTC</td><td>&quot;ultrasound&quot;</td><td>8619321</td><td>&quot;0x8cb8b635ef50…</td><td>&quot;0xe3492211839c…</td><td>&quot;0xa32aadb23e45…</td><td>&quot;0x9658a4661257…</td><td>&quot;0x6d2e03b7EfFE…</td><td>30000000</td><td>23086233</td><td>1.0628e18</td><td>218</td><td>19419776</td><td>false</td></tr><tr><td>2024-03-12 07:34:11 UTC</td><td>&quot;flashbots&quot;</td><td>8617069</td><td>&quot;0x1545510d4a2a…</td><td>&quot;0xb61592703b75…</td><td>&quot;0xb995e146f09b…</td><td>&quot;0x897c5c14ddcc…</td><td>&quot;0x46f41e39fACd…</td><td>30000000</td><td>13118956</td><td>5.4646e16</td><td>103</td><td>19417537</td><td>false</td></tr></tbody></table></div>"
      ],
      "text/plain": [
       "shape: (12_799, 14)\n",
       "┌─────────────┬─────────────┬─────────┬────────────┬───┬───────────┬────────┬────────────┬─────────┐\n",
       "│ block_times ┆ relay       ┆ slot    ┆ parent_has ┆ … ┆ value     ┆ num_tx ┆ block_numb ┆ reorged │\n",
       "│ tamp        ┆ ---         ┆ ---     ┆ h          ┆   ┆ ---       ┆ ---    ┆ er         ┆ ---     │\n",
       "│ ---         ┆ str         ┆ i64     ┆ ---        ┆   ┆ f64       ┆ i64    ┆ ---        ┆ bool    │\n",
       "│ datetime[μs ┆             ┆         ┆ str        ┆   ┆           ┆        ┆ i64        ┆         │\n",
       "│ , UTC]      ┆             ┆         ┆            ┆   ┆           ┆        ┆            ┆         │\n",
       "╞═════════════╪═════════════╪═════════╪════════════╪═══╪═══════════╪════════╪════════════╪═════════╡\n",
       "│ 2024-03-12  ┆ bloxrouteMa ┆ 8615581 ┆ 0x2567c25a ┆ … ┆ 7.6421e16 ┆ 270    ┆ 19416061   ┆ false   │\n",
       "│ 02:36:35    ┆ xProfit     ┆         ┆ 84ef396824 ┆   ┆           ┆        ┆            ┆         │\n",
       "│ UTC         ┆             ┆         ┆ 8b76cc1568 ┆   ┆           ┆        ┆            ┆         │\n",
       "│             ┆             ┆         ┆ c5…        ┆   ┆           ┆        ┆            ┆         │\n",
       "│ 2024-03-12  ┆ aestus      ┆ 8616636 ┆ 0xcc90f45c ┆ … ┆ 6.4143e16 ┆ 190    ┆ 19417107   ┆ false   │\n",
       "│ 06:07:35    ┆             ┆         ┆ 63475879fa ┆   ┆           ┆        ┆            ┆         │\n",
       "│ UTC         ┆             ┆         ┆ 99859518e9 ┆   ┆           ┆        ┆            ┆         │\n",
       "│             ┆             ┆         ┆ 5a…        ┆   ┆           ┆        ┆            ┆         │\n",
       "│ 2024-03-12  ┆ flashbots   ┆ 8619580 ┆ 0x0538d964 ┆ … ┆ 4.5729e16 ┆ 131    ┆ 19420034   ┆ false   │\n",
       "│ 15:56:23    ┆             ┆         ┆ d0976dd80f ┆   ┆           ┆        ┆            ┆         │\n",
       "│ UTC         ┆             ┆         ┆ 1f6e801eb6 ┆   ┆           ┆        ┆            ┆         │\n",
       "│             ┆             ┆         ┆ 7a…        ┆   ┆           ┆        ┆            ┆         │\n",
       "│ 2024-03-12  ┆ bloxrouteMa ┆ 8619760 ┆ 0x0e0d3451 ┆ … ┆ 4.5588e16 ┆ 162    ┆ 19420211   ┆ false   │\n",
       "│ 16:32:23    ┆ xProfit     ┆         ┆ b41701ef8f ┆   ┆           ┆        ┆            ┆         │\n",
       "│ UTC         ┆             ┆         ┆ 5256eeda68 ┆   ┆           ┆        ┆            ┆         │\n",
       "│             ┆             ┆         ┆ 9d…        ┆   ┆           ┆        ┆            ┆         │\n",
       "│ 2024-03-12  ┆ agnostic    ┆ 8619195 ┆ 0xbe505a26 ┆ … ┆ 3.8769e16 ┆ 184    ┆ 19419651   ┆ false   │\n",
       "│ 14:39:23    ┆             ┆         ┆ cc1b4bb126 ┆   ┆           ┆        ┆            ┆         │\n",
       "│ UTC         ┆             ┆         ┆ 4efea032e4 ┆   ┆           ┆        ┆            ┆         │\n",
       "│             ┆             ┆         ┆ d2…        ┆   ┆           ┆        ┆            ┆         │\n",
       "│ …           ┆ …           ┆ …       ┆ …          ┆ … ┆ …         ┆ …      ┆ …          ┆ …       │\n",
       "│ 2024-03-12  ┆ bloxrouteRe ┆ 8615258 ┆ 0x09cf907e ┆ … ┆ 2.6329e16 ┆ 132    ┆ 19415739   ┆ false   │\n",
       "│ 01:31:59    ┆ gulated     ┆         ┆ b2db4239b9 ┆   ┆           ┆        ┆            ┆         │\n",
       "│ UTC         ┆             ┆         ┆ 75eec0c131 ┆   ┆           ┆        ┆            ┆         │\n",
       "│             ┆             ┆         ┆ af…        ┆   ┆           ┆        ┆            ┆         │\n",
       "│ 2024-03-12  ┆ bloxrouteRe ┆ 8618998 ┆ 0xbc398c84 ┆ … ┆ 2.5553e17 ┆ 150    ┆ 19419455   ┆ false   │\n",
       "│ 13:59:59    ┆ gulated     ┆         ┆ 50a204d31c ┆   ┆           ┆        ┆            ┆         │\n",
       "│ UTC         ┆             ┆         ┆ 5a6802b9b8 ┆   ┆           ┆        ┆            ┆         │\n",
       "│             ┆             ┆         ┆ 73…        ┆   ┆           ┆        ┆            ┆         │\n",
       "│ 2024-03-12  ┆ bloxrouteMa ┆ 8617939 ┆ 0xee317ecf ┆ … ┆ 6.9769e16 ┆ 274    ┆ 19418400   ┆ false   │\n",
       "│ 10:28:11    ┆ xProfit     ┆         ┆ 4efb4f0bf0 ┆   ┆           ┆        ┆            ┆         │\n",
       "│ UTC         ┆             ┆         ┆ 71d563a15f ┆   ┆           ┆        ┆            ┆         │\n",
       "│             ┆             ┆         ┆ bf…        ┆   ┆           ┆        ┆            ┆         │\n",
       "│ 2024-03-12  ┆ ultrasound  ┆ 8619321 ┆ 0x8cb8b635 ┆ … ┆ 1.0628e18 ┆ 218    ┆ 19419776   ┆ false   │\n",
       "│ 15:04:35    ┆             ┆         ┆ ef5049ab2c ┆   ┆           ┆        ┆            ┆         │\n",
       "│ UTC         ┆             ┆         ┆ e6dd449a8a ┆   ┆           ┆        ┆            ┆         │\n",
       "│             ┆             ┆         ┆ cf…        ┆   ┆           ┆        ┆            ┆         │\n",
       "│ 2024-03-12  ┆ flashbots   ┆ 8617069 ┆ 0x1545510d ┆ … ┆ 5.4646e16 ┆ 103    ┆ 19417537   ┆ false   │\n",
       "│ 07:34:11    ┆             ┆         ┆ 4a2a91fc20 ┆   ┆           ┆        ┆            ┆         │\n",
       "│ UTC         ┆             ┆         ┆ fd0329a0bd ┆   ┆           ┆        ┆            ┆         │\n",
       "│             ┆             ┆         ┆ 58…        ┆   ┆           ┆        ┆            ┆         │\n",
       "└─────────────┴─────────────┴─────────┴────────────┴───┴───────────┴────────┴────────────┴─────────┘"
      ]
     },
     "execution_count": 6,
     "metadata": {},
     "output_type": "execute_result"
    }
   ],
   "source": [
    "df_pl"
   ]
  },
  {
   "cell_type": "code",
   "execution_count": null,
   "metadata": {},
   "outputs": [],
   "source": []
  }
 ],
 "metadata": {
  "kernelspec": {
   "display_name": ".venv",
   "language": "python",
   "name": "python3"
  },
  "language_info": {
   "codemirror_mode": {
    "name": "ipython",
    "version": 3
   },
   "file_extension": ".py",
   "mimetype": "text/x-python",
   "name": "python",
   "nbconvert_exporter": "python",
   "pygments_lexer": "ipython3",
   "version": "3.11.8"
  }
 },
 "nbformat": 4,
 "nbformat_minor": 2
}
