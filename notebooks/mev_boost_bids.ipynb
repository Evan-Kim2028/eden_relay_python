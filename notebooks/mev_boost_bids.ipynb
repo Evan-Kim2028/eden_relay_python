{
 "cells": [
  {
   "cell_type": "code",
   "execution_count": 6,
   "metadata": {},
   "outputs": [],
   "source": [
    "import bigframes.pandas as bpd\n",
    "import polars as pl"
   ]
  },
  {
   "cell_type": "code",
   "execution_count": 8,
   "metadata": {},
   "outputs": [
    {
     "data": {
      "text/html": [
       "Query job 9d979110-f740-4b38-a185-3717ca915776 is DONE. 7.9 GB processed. <a target=\"_blank\" href=\"https://console.cloud.google.com/bigquery?project=eden-relay&j=bq:US:9d979110-f740-4b38-a185-3717ca915776&page=queryresults\">Open Job</a>"
      ],
      "text/plain": [
       "<IPython.core.display.HTML object>"
      ]
     },
     "metadata": {},
     "output_type": "display_data"
    }
   ],
   "source": [
    "# this query scans the whole partition. expensive.\n",
    "# bdf = bpd.read_gbq(\n",
    "#     \"\"\"\n",
    "# SELECT * FROM `eden-data-public.mev_boost.bids`\n",
    "# WHERE TIMESTAMP_TRUNC(block_timestamp, DAY) = TIMESTAMP(\"2024-03-12\")\n",
    "# \"\"\"\n",
    "# )\n",
    "\n",
    "# using tablesample system allows random sampling of the dataset, reading only a subset of the partition # https://cloud.google.com/bigquery/docs/table-sampling\n",
    "bdf = bpd.read_gbq(\n",
    "    \"\"\"\n",
    "SELECT * FROM `eden-data-public.mev_boost.bids` TABLESAMPLE SYSTEM (10 PERCENT)\n",
    "WHERE TIMESTAMP_TRUNC(block_timestamp, DAY) = TIMESTAMP(\"2024-03-12\")\n",
    "    \"\"\"\n",
    ")"
   ]
  },
  {
   "cell_type": "code",
   "execution_count": 3,
   "metadata": {},
   "outputs": [
    {
     "data": {
      "text/html": [
       "Query job 64e19490-755c-4f51-b393-de9deeac2ba5 is DONE. 5.2 GB processed. <a target=\"_blank\" href=\"https://console.cloud.google.com/bigquery?project=eden-relay&j=bq:US:64e19490-755c-4f51-b393-de9deeac2ba5&page=queryresults\">Open Job</a>"
      ],
      "text/plain": [
       "<IPython.core.display.HTML object>"
      ]
     },
     "metadata": {},
     "output_type": "display_data"
    }
   ],
   "source": [
    "df_pl = pl.from_pandas(bdf.to_pandas())"
   ]
  },
  {
   "cell_type": "code",
   "execution_count": 4,
   "metadata": {},
   "outputs": [
    {
     "data": {
      "text/html": [
       "<div><style>\n",
       ".dataframe > thead > tr,\n",
       ".dataframe > tbody > tr {\n",
       "  text-align: right;\n",
       "  white-space: pre-wrap;\n",
       "}\n",
       "</style>\n",
       "<small>shape: (5, 17)</small><table border=\"1\" class=\"dataframe\"><thead><tr><th>block_timestamp</th><th>relay</th><th>slot</th><th>parent_hash</th><th>block_hash</th><th>builder_pubkey</th><th>proposer_pubkey</th><th>proposer_fee_recipient</th><th>gas_limit</th><th>gas_used</th><th>value</th><th>num_tx</th><th>block_number</th><th>timestamp</th><th>timestamp_s</th><th>timestamp_ms</th><th>optimistic_submission</th></tr><tr><td>datetime[μs, UTC]</td><td>str</td><td>i64</td><td>str</td><td>str</td><td>str</td><td>str</td><td>str</td><td>i64</td><td>i64</td><td>f64</td><td>i64</td><td>i64</td><td>datetime[μs, UTC]</td><td>i64</td><td>i64</td><td>bool</td></tr></thead><tbody><tr><td>2024-03-13 15:43:59 UTC</td><td>&quot;flashbots&quot;</td><td>8626718</td><td>&quot;0x0e9524e3c4ee…</td><td>&quot;0xb4e780cc88d0…</td><td>&quot;0x8c75cfb66562…</td><td>&quot;0xb25befc2144a…</td><td>&quot;0xe688b84b23f3…</td><td>30000000</td><td>10642193</td><td>4.4587e17</td><td>172</td><td>19427117</td><td>2024-03-13 15:44:00.943 UTC</td><td>1710344640</td><td>1710344640943</td><td>false</td></tr><tr><td>2024-03-13 15:43:59 UTC</td><td>&quot;bloxrouteMaxPr…</td><td>8626718</td><td>&quot;0x0e9524e3c4ee…</td><td>&quot;0xb0cb81469220…</td><td>&quot;0xb066a09b52c5…</td><td>&quot;0xb25befc2144a…</td><td>&quot;0xe688b84b23f3…</td><td>30000000</td><td>11408468</td><td>2.8665e16</td><td>179</td><td>19427117</td><td>2024-03-13 15:44:00.896 UTC</td><td>1710344640</td><td>1710344640896</td><td>null</td></tr><tr><td>2024-03-13 15:43:59 UTC</td><td>&quot;bloxrouteMaxPr…</td><td>8626718</td><td>&quot;0x0e9524e3c4ee…</td><td>&quot;0xe2a9ebcae89a…</td><td>&quot;0xb066a09b52c5…</td><td>&quot;0xb25befc2144a…</td><td>&quot;0xe688b84b23f3…</td><td>30000000</td><td>11408468</td><td>2.8665e16</td><td>179</td><td>19427117</td><td>2024-03-13 15:44:00.885 UTC</td><td>1710344640</td><td>1710344640885</td><td>null</td></tr><tr><td>2024-03-13 15:43:59 UTC</td><td>&quot;bloxrouteMaxPr…</td><td>8626718</td><td>&quot;0x0e9524e3c4ee…</td><td>&quot;0xb4e780cc88d0…</td><td>&quot;0x8c75cfb66562…</td><td>&quot;0xb25befc2144a…</td><td>&quot;0xe688b84b23f3…</td><td>30000000</td><td>10642193</td><td>4.4587e17</td><td>172</td><td>19427117</td><td>2024-03-13 15:44:00.883 UTC</td><td>1710344640</td><td>1710344640883</td><td>null</td></tr><tr><td>2024-03-13 15:43:59 UTC</td><td>&quot;flashbots&quot;</td><td>8626718</td><td>&quot;0x0e9524e3c4ee…</td><td>&quot;0x4e01e165385b…</td><td>&quot;0x8d2b4626cd64…</td><td>&quot;0xb25befc2144a…</td><td>&quot;0xe688b84b23f3…</td><td>30000000</td><td>10671965</td><td>4.4587e17</td><td>171</td><td>19427117</td><td>2024-03-13 15:44:00.867 UTC</td><td>1710344640</td><td>1710344640867</td><td>false</td></tr></tbody></table></div>"
      ],
      "text/plain": [
       "shape: (5, 17)\n",
       "┌────────────┬───────────┬─────────┬───────────┬───┬───────────┬───────────┬───────────┬───────────┐\n",
       "│ block_time ┆ relay     ┆ slot    ┆ parent_ha ┆ … ┆ timestamp ┆ timestamp ┆ timestamp ┆ optimisti │\n",
       "│ stamp      ┆ ---       ┆ ---     ┆ sh        ┆   ┆ ---       ┆ _s        ┆ _ms       ┆ c_submiss │\n",
       "│ ---        ┆ str       ┆ i64     ┆ ---       ┆   ┆ datetime[ ┆ ---       ┆ ---       ┆ ion       │\n",
       "│ datetime[μ ┆           ┆         ┆ str       ┆   ┆ μs, UTC]  ┆ i64       ┆ i64       ┆ ---       │\n",
       "│ s, UTC]    ┆           ┆         ┆           ┆   ┆           ┆           ┆           ┆ bool      │\n",
       "╞════════════╪═══════════╪═════════╪═══════════╪═══╪═══════════╪═══════════╪═══════════╪═══════════╡\n",
       "│ 2024-03-13 ┆ flashbots ┆ 8626718 ┆ 0x0e9524e ┆ … ┆ 2024-03-1 ┆ 171034464 ┆ 171034464 ┆ false     │\n",
       "│ 15:43:59   ┆           ┆         ┆ 3c4eee283 ┆   ┆ 3 15:44:0 ┆ 0         ┆ 0943      ┆           │\n",
       "│ UTC        ┆           ┆         ┆ 05b90b4b5 ┆   ┆ 0.943 UTC ┆           ┆           ┆           │\n",
       "│            ┆           ┆         ┆ 5ed3e…    ┆   ┆           ┆           ┆           ┆           │\n",
       "│ 2024-03-13 ┆ bloxroute ┆ 8626718 ┆ 0x0e9524e ┆ … ┆ 2024-03-1 ┆ 171034464 ┆ 171034464 ┆ null      │\n",
       "│ 15:43:59   ┆ MaxProfit ┆         ┆ 3c4eee283 ┆   ┆ 3 15:44:0 ┆ 0         ┆ 0896      ┆           │\n",
       "│ UTC        ┆           ┆         ┆ 05b90b4b5 ┆   ┆ 0.896 UTC ┆           ┆           ┆           │\n",
       "│            ┆           ┆         ┆ 5ed3e…    ┆   ┆           ┆           ┆           ┆           │\n",
       "│ 2024-03-13 ┆ bloxroute ┆ 8626718 ┆ 0x0e9524e ┆ … ┆ 2024-03-1 ┆ 171034464 ┆ 171034464 ┆ null      │\n",
       "│ 15:43:59   ┆ MaxProfit ┆         ┆ 3c4eee283 ┆   ┆ 3 15:44:0 ┆ 0         ┆ 0885      ┆           │\n",
       "│ UTC        ┆           ┆         ┆ 05b90b4b5 ┆   ┆ 0.885 UTC ┆           ┆           ┆           │\n",
       "│            ┆           ┆         ┆ 5ed3e…    ┆   ┆           ┆           ┆           ┆           │\n",
       "│ 2024-03-13 ┆ bloxroute ┆ 8626718 ┆ 0x0e9524e ┆ … ┆ 2024-03-1 ┆ 171034464 ┆ 171034464 ┆ null      │\n",
       "│ 15:43:59   ┆ MaxProfit ┆         ┆ 3c4eee283 ┆   ┆ 3 15:44:0 ┆ 0         ┆ 0883      ┆           │\n",
       "│ UTC        ┆           ┆         ┆ 05b90b4b5 ┆   ┆ 0.883 UTC ┆           ┆           ┆           │\n",
       "│            ┆           ┆         ┆ 5ed3e…    ┆   ┆           ┆           ┆           ┆           │\n",
       "│ 2024-03-13 ┆ flashbots ┆ 8626718 ┆ 0x0e9524e ┆ … ┆ 2024-03-1 ┆ 171034464 ┆ 171034464 ┆ false     │\n",
       "│ 15:43:59   ┆           ┆         ┆ 3c4eee283 ┆   ┆ 3 15:44:0 ┆ 0         ┆ 0867      ┆           │\n",
       "│ UTC        ┆           ┆         ┆ 05b90b4b5 ┆   ┆ 0.867 UTC ┆           ┆           ┆           │\n",
       "│            ┆           ┆         ┆ 5ed3e…    ┆   ┆           ┆           ┆           ┆           │\n",
       "└────────────┴───────────┴─────────┴───────────┴───┴───────────┴───────────┴───────────┴───────────┘"
      ]
     },
     "execution_count": 4,
     "metadata": {},
     "output_type": "execute_result"
    }
   ],
   "source": [
    "df_pl.sort(by=\"timestamp\", descending=True).head(5)"
   ]
  },
  {
   "cell_type": "code",
   "execution_count": null,
   "metadata": {},
   "outputs": [],
   "source": []
  }
 ],
 "metadata": {
  "kernelspec": {
   "display_name": ".venv",
   "language": "python",
   "name": "python3"
  },
  "language_info": {
   "codemirror_mode": {
    "name": "ipython",
    "version": 3
   },
   "file_extension": ".py",
   "mimetype": "text/x-python",
   "name": "python",
   "nbconvert_exporter": "python",
   "pygments_lexer": "ipython3",
   "version": "3.11.8"
  }
 },
 "nbformat": 4,
 "nbformat_minor": 2
}
